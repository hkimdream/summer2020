{
 "cells": [
  {
   "cell_type": "markdown",
   "metadata": {},
   "source": [
    "# Create target values for weather"
   ]
  },
  {
   "cell_type": "code",
   "execution_count": 9,
   "metadata": {},
   "outputs": [
    {
     "name": "stderr",
     "output_type": "stream",
     "text": [
      "/Users/rick/anaconda3/lib/python3.7/site-packages/statsmodels/tools/_testing.py:19: FutureWarning: pandas.util.testing is deprecated. Use the functions in the public API at pandas.testing instead.\n",
      "  import pandas.util.testing as tm\n"
     ]
    }
   ],
   "source": [
    "import pandas as pd \n",
    "import numpy as np\n",
    "import matplotlib.pyplot as plt \n",
    "import seaborn as sns"
   ]
  },
  {
   "cell_type": "code",
   "execution_count": 2,
   "metadata": {},
   "outputs": [],
   "source": [
    "data_dir = \"/Volumes/Samsung_T5/lcrc_data\""
   ]
  },
  {
   "cell_type": "code",
   "execution_count": 3,
   "metadata": {},
   "outputs": [
    {
     "data": {
      "text/html": [
       "<div>\n",
       "<style scoped>\n",
       "    .dataframe tbody tr th:only-of-type {\n",
       "        vertical-align: middle;\n",
       "    }\n",
       "\n",
       "    .dataframe tbody tr th {\n",
       "        vertical-align: top;\n",
       "    }\n",
       "\n",
       "    .dataframe thead th {\n",
       "        text-align: right;\n",
       "    }\n",
       "</style>\n",
       "<table border=\"1\" class=\"dataframe\">\n",
       "  <thead>\n",
       "    <tr style=\"text-align: right;\">\n",
       "      <th></th>\n",
       "      <th>Day of the month</th>\n",
       "      <th>Month</th>\n",
       "      <th>Year</th>\n",
       "      <th>Mid averaging-period time</th>\n",
       "      <th>Pasquill stability class</th>\n",
       "      <th>Average 60 m wind direction (scalar) (units: deg)</th>\n",
       "      <th>Average 60 m wind speed (scalar) (units: m/s)</th>\n",
       "      <th>Standard deviation of 60 m wind direction (units: deg)</th>\n",
       "      <th>Average 60 m temperature (units:deg C)</th>\n",
       "      <th>Average 10 m wind direction (scalar) (units: deg)</th>\n",
       "      <th>...</th>\n",
       "      <th>p_Average temperature difference/100m (units: deg C/100m)</th>\n",
       "      <th>p_Total precipitation (units: mm)</th>\n",
       "      <th>p_Average solar radiation (units: Watts/m**2)</th>\n",
       "      <th>p_Average net radiation (units: Watts/m**2)</th>\n",
       "      <th>p_Average barometric pressure (units: kPa)</th>\n",
       "      <th>p_Average water vapor pressure (units: kPa)</th>\n",
       "      <th>p_Average 10 cm soil temperature (units: deg C)</th>\n",
       "      <th>p_Average 100 cm soil temperature (units: deg C)</th>\n",
       "      <th>p_Average 10 ft soil temperature (units: deg C)</th>\n",
       "      <th>p_date</th>\n",
       "    </tr>\n",
       "  </thead>\n",
       "  <tbody>\n",
       "    <tr>\n",
       "      <th>0</th>\n",
       "      <td>23</td>\n",
       "      <td>1.0</td>\n",
       "      <td>20.0</td>\n",
       "      <td>130.0</td>\n",
       "      <td>D</td>\n",
       "      <td>184.4</td>\n",
       "      <td>6.1</td>\n",
       "      <td>8.8</td>\n",
       "      <td>-1.4</td>\n",
       "      <td>188.8</td>\n",
       "      <td>...</td>\n",
       "      <td>-0.7</td>\n",
       "      <td>0.0</td>\n",
       "      <td>0.0</td>\n",
       "      <td>-4.00</td>\n",
       "      <td>99.54</td>\n",
       "      <td>0.51</td>\n",
       "      <td>0.1</td>\n",
       "      <td>4.6</td>\n",
       "      <td>8.6</td>\n",
       "      <td>2020_01_23_02</td>\n",
       "    </tr>\n",
       "    <tr>\n",
       "      <th>1</th>\n",
       "      <td>23</td>\n",
       "      <td>1.0</td>\n",
       "      <td>20.0</td>\n",
       "      <td>330.0</td>\n",
       "      <td>D</td>\n",
       "      <td>173.2</td>\n",
       "      <td>5.0</td>\n",
       "      <td>9.3</td>\n",
       "      <td>-2.0</td>\n",
       "      <td>176.6</td>\n",
       "      <td>...</td>\n",
       "      <td>-0.8</td>\n",
       "      <td>0.4</td>\n",
       "      <td>0.0</td>\n",
       "      <td>-3.70</td>\n",
       "      <td>99.49</td>\n",
       "      <td>0.53</td>\n",
       "      <td>0.1</td>\n",
       "      <td>4.6</td>\n",
       "      <td>8.6</td>\n",
       "      <td>2020_01_23_04</td>\n",
       "    </tr>\n",
       "    <tr>\n",
       "      <th>2</th>\n",
       "      <td>23</td>\n",
       "      <td>1.0</td>\n",
       "      <td>20.0</td>\n",
       "      <td>430.0</td>\n",
       "      <td>D</td>\n",
       "      <td>172.7</td>\n",
       "      <td>4.9</td>\n",
       "      <td>10.5</td>\n",
       "      <td>-1.9</td>\n",
       "      <td>173.3</td>\n",
       "      <td>...</td>\n",
       "      <td>-0.7</td>\n",
       "      <td>0.0</td>\n",
       "      <td>0.0</td>\n",
       "      <td>-3.80</td>\n",
       "      <td>99.47</td>\n",
       "      <td>0.52</td>\n",
       "      <td>0.1</td>\n",
       "      <td>4.6</td>\n",
       "      <td>8.6</td>\n",
       "      <td>2020_01_23_05</td>\n",
       "    </tr>\n",
       "    <tr>\n",
       "      <th>3</th>\n",
       "      <td>23</td>\n",
       "      <td>1.0</td>\n",
       "      <td>20.0</td>\n",
       "      <td>530.0</td>\n",
       "      <td>D</td>\n",
       "      <td>172.9</td>\n",
       "      <td>4.9</td>\n",
       "      <td>9.0</td>\n",
       "      <td>-2.0</td>\n",
       "      <td>174.4</td>\n",
       "      <td>...</td>\n",
       "      <td>-0.8</td>\n",
       "      <td>0.0</td>\n",
       "      <td>0.0</td>\n",
       "      <td>-3.60</td>\n",
       "      <td>99.47</td>\n",
       "      <td>0.52</td>\n",
       "      <td>0.1</td>\n",
       "      <td>4.6</td>\n",
       "      <td>8.6</td>\n",
       "      <td>2020_01_23_06</td>\n",
       "    </tr>\n",
       "    <tr>\n",
       "      <th>4</th>\n",
       "      <td>23</td>\n",
       "      <td>1.0</td>\n",
       "      <td>20.0</td>\n",
       "      <td>630.0</td>\n",
       "      <td>D</td>\n",
       "      <td>170.8</td>\n",
       "      <td>4.1</td>\n",
       "      <td>8.9</td>\n",
       "      <td>-2.0</td>\n",
       "      <td>174.8</td>\n",
       "      <td>...</td>\n",
       "      <td>-0.8</td>\n",
       "      <td>0.2</td>\n",
       "      <td>3.2</td>\n",
       "      <td>-1.70</td>\n",
       "      <td>99.48</td>\n",
       "      <td>0.54</td>\n",
       "      <td>0.2</td>\n",
       "      <td>4.6</td>\n",
       "      <td>8.6</td>\n",
       "      <td>2020_01_23_07</td>\n",
       "    </tr>\n",
       "  </tbody>\n",
       "</table>\n",
       "<p>5 rows × 50 columns</p>\n",
       "</div>"
      ],
      "text/plain": [
       "   Day of the month  Month  Year  Mid averaging-period time  \\\n",
       "0                23    1.0  20.0                      130.0   \n",
       "1                23    1.0  20.0                      330.0   \n",
       "2                23    1.0  20.0                      430.0   \n",
       "3                23    1.0  20.0                      530.0   \n",
       "4                23    1.0  20.0                      630.0   \n",
       "\n",
       "  Pasquill stability class Average 60 m wind direction (scalar) (units: deg)  \\\n",
       "0                     D                                                184.4   \n",
       "1                     D                                                173.2   \n",
       "2                     D                                                172.7   \n",
       "3                     D                                                172.9   \n",
       "4                     D                                                170.8   \n",
       "\n",
       "  Average 60 m wind speed (scalar) (units: m/s)  \\\n",
       "0                                           6.1   \n",
       "1                                           5.0   \n",
       "2                                           4.9   \n",
       "3                                           4.9   \n",
       "4                                           4.1   \n",
       "\n",
       "  Standard deviation of 60 m wind direction (units: deg)  \\\n",
       "0                                                8.8       \n",
       "1                                                9.3       \n",
       "2                                               10.5       \n",
       "3                                                9.0       \n",
       "4                                                8.9       \n",
       "\n",
       "  Average 60 m temperature (units:deg C)  \\\n",
       "0                                   -1.4   \n",
       "1                                   -2.0   \n",
       "2                                   -1.9   \n",
       "3                                   -2.0   \n",
       "4                                   -2.0   \n",
       "\n",
       "  Average 10 m wind direction (scalar) (units: deg)  ...  \\\n",
       "0                                             188.8  ...   \n",
       "1                                             176.6  ...   \n",
       "2                                             173.3  ...   \n",
       "3                                             174.4  ...   \n",
       "4                                             174.8  ...   \n",
       "\n",
       "  p_Average temperature difference/100m (units: deg C/100m)  \\\n",
       "0                                               -0.7          \n",
       "1                                               -0.8          \n",
       "2                                               -0.7          \n",
       "3                                               -0.8          \n",
       "4                                               -0.8          \n",
       "\n",
       "  p_Total precipitation (units: mm)  \\\n",
       "0                               0.0   \n",
       "1                               0.4   \n",
       "2                               0.0   \n",
       "3                               0.0   \n",
       "4                               0.2   \n",
       "\n",
       "  p_Average solar radiation (units: Watts/m**2)  \\\n",
       "0                                           0.0   \n",
       "1                                           0.0   \n",
       "2                                           0.0   \n",
       "3                                           0.0   \n",
       "4                                           3.2   \n",
       "\n",
       "  p_Average net radiation (units: Watts/m**2)  \\\n",
       "0                                       -4.00   \n",
       "1                                       -3.70   \n",
       "2                                       -3.80   \n",
       "3                                       -3.60   \n",
       "4                                       -1.70   \n",
       "\n",
       "  p_Average barometric pressure (units: kPa)  \\\n",
       "0                                      99.54   \n",
       "1                                      99.49   \n",
       "2                                      99.47   \n",
       "3                                      99.47   \n",
       "4                                      99.48   \n",
       "\n",
       "   p_Average water vapor pressure (units: kPa)  \\\n",
       "0                                         0.51   \n",
       "1                                         0.53   \n",
       "2                                         0.52   \n",
       "3                                         0.52   \n",
       "4                                         0.54   \n",
       "\n",
       "   p_Average 10 cm soil temperature (units: deg C)  \\\n",
       "0                                              0.1   \n",
       "1                                              0.1   \n",
       "2                                              0.1   \n",
       "3                                              0.1   \n",
       "4                                              0.2   \n",
       "\n",
       "  p_Average 100 cm soil temperature (units: deg C)  \\\n",
       "0                                              4.6   \n",
       "1                                              4.6   \n",
       "2                                              4.6   \n",
       "3                                              4.6   \n",
       "4                                              4.6   \n",
       "\n",
       "  p_Average 10 ft soil temperature (units: deg C)         p_date  \n",
       "0                                             8.6  2020_01_23_02  \n",
       "1                                             8.6  2020_01_23_04  \n",
       "2                                             8.6  2020_01_23_05  \n",
       "3                                             8.6  2020_01_23_06  \n",
       "4                                             8.6  2020_01_23_07  \n",
       "\n",
       "[5 rows x 50 columns]"
      ]
     },
     "execution_count": 3,
     "metadata": {},
     "output_type": "execute_result"
    }
   ],
   "source": [
    "weather_df = pd.read_csv(data_dir + \"/weather_argonne_2020.csv\")\n",
    "weather_df = weather_df.iloc[:,1:]\n",
    "weather_df.head()"
   ]
  },
  {
   "cell_type": "code",
   "execution_count": 4,
   "metadata": {},
   "outputs": [],
   "source": [
    "col_to_float = ['Average 60 m wind direction (scalar) (units: deg)',\n",
    " 'Average 60 m wind speed (scalar) (units: m/s)',\n",
    " 'Standard deviation of 60 m wind direction (units: deg)',\n",
    " 'Average 60 m temperature (units:deg C)',\n",
    " 'Average 10 m wind direction (scalar) (units: deg)',\n",
    " 'Average 10 m wind speed (scalar) (units: m/s)',\n",
    " 'Standard deviation of 10 m wind direction (units: deg)',\n",
    " 'Average 10 m temperature (units: deg C)',\n",
    " 'Average dew point temperature (units: deg C)',\n",
    " 'Average relative humidity (units: %)',\n",
    " 'Average temperature difference/100m (units: deg C/100m)',\n",
    " 'Total precipitation (units: mm)',\n",
    " 'Average solar radiation (units: Watts/m**2)',\n",
    " 'Average net radiation (units: Watts/m**2)',\n",
    " 'Average barometric pressure (units: kPa)',\n",
    " 'Average water vapor pressure (units: kPa)',\n",
    " 'Average 10 cm soil temperature (units: deg C)',\n",
    " 'Average 100 cm soil temperature (units: deg C)',\n",
    " 'Average 10 ft soil temperature (units: deg C)',\n",
    " 'p_Average 60 m wind direction (scalar) (units: deg)',\n",
    " 'p_Average 60 m wind speed (scalar) (units: m/s)',\n",
    " 'p_Standard deviation of 60 m wind direction (units: deg)',\n",
    " 'p_Average 60 m temperature (units:deg C)',\n",
    " 'p_Average 10 m wind direction (scalar) (units: deg)',\n",
    " 'p_Average 10 m wind speed (scalar) (units: m/s)',\n",
    " 'p_Standard deviation of 10 m wind direction (units: deg)',\n",
    " 'p_Average 10 m temperature (units: deg C)',\n",
    " 'p_Average dew point temperature (units: deg C)',\n",
    " 'p_Average relative humidity (units: %)',\n",
    " 'p_Average temperature difference/100m (units: deg C/100m)',\n",
    " 'p_Total precipitation (units: mm)',\n",
    " 'p_Average solar radiation (units: Watts/m**2)',\n",
    " 'p_Average net radiation (units: Watts/m**2)',\n",
    " 'p_Average barometric pressure (units: kPa)',\n",
    " 'p_Average water vapor pressure (units: kPa)',\n",
    " 'p_Average 10 cm soil temperature (units: deg C)',\n",
    " 'p_Average 100 cm soil temperature (units: deg C)',\n",
    " 'p_Average 10 ft soil temperature (units: deg C)']"
   ]
  },
  {
   "cell_type": "code",
   "execution_count": 5,
   "metadata": {},
   "outputs": [],
   "source": [
    "def remove_whitespace(x):\n",
    "    \"\"\"\n",
    "    Helper function to remove any blank space from a string\n",
    "    x: a string\n",
    "    \"\"\"\n",
    "    try:\n",
    "        # Remove spaces inside of the string\n",
    "        x = \"\".join(x.split())\n",
    "\n",
    "    except:\n",
    "        pass\n",
    "    return x\n",
    "\n",
    "\n",
    "for i,col_name in enumerate(col_to_float):\n",
    "    if weather_df[col_name].dtype == \"object\":\n",
    "        weather_df[col_name] = weather_df[col_name].apply(remove_whitespace)\n",
    "        weather_df[col_name] = pd.to_numeric(weather_df[col_name],errors='coerce')"
   ]
  },
  {
   "cell_type": "code",
   "execution_count": 6,
   "metadata": {},
   "outputs": [
    {
     "data": {
      "text/plain": [
       "Day of the month                                               int64\n",
       "Month                                                        float64\n",
       "Year                                                         float64\n",
       "Mid averaging-period time                                    float64\n",
       "Pasquill stability class                                      object\n",
       "Average 60 m wind direction (scalar) (units: deg)            float64\n",
       "Average 60 m wind speed (scalar) (units: m/s)                float64\n",
       "Standard deviation of 60 m wind direction (units: deg)       float64\n",
       "Average 60 m temperature (units:deg C)                       float64\n",
       "Average 10 m wind direction (scalar) (units: deg)            float64\n",
       "Average 10 m wind speed (scalar) (units: m/s)                float64\n",
       "Standard deviation of 10 m wind direction (units: deg)       float64\n",
       "Average 10 m temperature (units: deg C)                      float64\n",
       "Average dew point temperature (units: deg C)                 float64\n",
       "Average relative humidity (units: %)                         float64\n",
       "Average temperature difference/100m (units: deg C/100m)      float64\n",
       "Total precipitation (units: mm)                              float64\n",
       "Average solar radiation (units: Watts/m**2)                  float64\n",
       "Average net radiation (units: Watts/m**2)                    float64\n",
       "Average barometric pressure (units: kPa)                     float64\n",
       "Average water vapor pressure (units: kPa)                    float64\n",
       "Average 10 cm soil temperature (units: deg C)                float64\n",
       "Average 100 cm soil temperature (units: deg C)               float64\n",
       "Average 10 ft soil temperature (units: deg C)                float64\n",
       "date                                                          object\n",
       "p_Day of the month                                             int64\n",
       "p_Month                                                      float64\n",
       "p_Year                                                       float64\n",
       "p_Mid averaging-period time                                  float64\n",
       "p_Pasquill stability class                                    object\n",
       "p_Average 60 m wind direction (scalar) (units: deg)          float64\n",
       "p_Average 60 m wind speed (scalar) (units: m/s)              float64\n",
       "p_Standard deviation of 60 m wind direction (units: deg)     float64\n",
       "p_Average 60 m temperature (units:deg C)                     float64\n",
       "p_Average 10 m wind direction (scalar) (units: deg)          float64\n",
       "p_Average 10 m wind speed (scalar) (units: m/s)              float64\n",
       "p_Standard deviation of 10 m wind direction (units: deg)     float64\n",
       "p_Average 10 m temperature (units: deg C)                    float64\n",
       "p_Average dew point temperature (units: deg C)               float64\n",
       "p_Average relative humidity (units: %)                       float64\n",
       "p_Average temperature difference/100m (units: deg C/100m)    float64\n",
       "p_Total precipitation (units: mm)                            float64\n",
       "p_Average solar radiation (units: Watts/m**2)                float64\n",
       "p_Average net radiation (units: Watts/m**2)                  float64\n",
       "p_Average barometric pressure (units: kPa)                   float64\n",
       "p_Average water vapor pressure (units: kPa)                  float64\n",
       "p_Average 10 cm soil temperature (units: deg C)              float64\n",
       "p_Average 100 cm soil temperature (units: deg C)             float64\n",
       "p_Average 10 ft soil temperature (units: deg C)              float64\n",
       "p_date                                                        object\n",
       "dtype: object"
      ]
     },
     "execution_count": 6,
     "metadata": {},
     "output_type": "execute_result"
    }
   ],
   "source": [
    "weather_df.dtypes"
   ]
  },
  {
   "cell_type": "code",
   "execution_count": 10,
   "metadata": {},
   "outputs": [
    {
     "data": {
      "text/plain": [
       "<matplotlib.axes._subplots.AxesSubplot at 0x7ffd11d209b0>"
      ]
     },
     "execution_count": 10,
     "metadata": {},
     "output_type": "execute_result"
    },
    {
     "data": {
      "image/png": "[encoded data removed]",
      "text/plain": [
       "<Figure size 432x288 with 1 Axes>"
      ]
     },
     "metadata": {
      "needs_background": "light"
     },
     "output_type": "display_data"
    }
   ],
   "source": [
    "sns.distplot(weather_df['p_Average solar radiation (units: Watts/m**2)'])"
   ]
  },
  {
   "cell_type": "code",
   "execution_count": 17,
   "metadata": {},
   "outputs": [
    {
     "data": {
      "text/plain": [
       "(-0.001, 0.3]     500\n",
       "(111.6, 894.1]    247\n",
       "(0.3, 111.6]      241\n",
       "Name: p_Average solar radiation (units: Watts/m**2), dtype: int64"
      ]
     },
     "execution_count": 17,
     "metadata": {},
     "output_type": "execute_result"
    }
   ],
   "source": [
    "solar_ranges = pd.qcut(weather_df['p_Average solar radiation (units: Watts/m**2)'], q=4,\\\n",
    "                      duplicates='drop')\n",
    "solar_ranges.value_counts()"
   ]
  },
  {
   "cell_type": "code",
   "execution_count": 21,
   "metadata": {},
   "outputs": [],
   "source": [
    "solar_values = weather_df['p_Average solar radiation (units: Watts/m**2)'].values\n",
    "solar_labels = []\n",
    "for i,val in enumerate(solar_values):\n",
    "    if val < .3: solar_labels.append(0)\n",
    "    elif val < 111.6: solar_labels.append(1)\n",
    "    else: solar_labels.append(2)"
   ]
  },
  {
   "cell_type": "code",
   "execution_count": 23,
   "metadata": {},
   "outputs": [
    {
     "data": {
      "text/plain": [
       "(array([493.,   0.,   0.,   0.,   0., 248.,   0.,   0.,   0., 247.]),\n",
       " array([0. , 0.2, 0.4, 0.6, 0.8, 1. , 1.2, 1.4, 1.6, 1.8, 2. ]),\n",
       " <a list of 10 Patch objects>)"
      ]
     },
     "execution_count": 23,
     "metadata": {},
     "output_type": "execute_result"
    },
    {
     "data": {
      "image/png": "[encoded data removed]",
      "text/plain": [
       "<Figure size 432x288 with 1 Axes>"
      ]
     },
     "metadata": {
      "needs_background": "light"
     },
     "output_type": "display_data"
    }
   ],
   "source": [
    "plt.hist(solar_labels)"
   ]
  },
  {
   "cell_type": "code",
   "execution_count": 24,
   "metadata": {},
   "outputs": [],
   "source": [
    "weather_df[\"target\"] = solar_labels"
   ]
  },
  {
   "cell_type": "code",
   "execution_count": 26,
   "metadata": {},
   "outputs": [],
   "source": [
    "weather_df.to_csv(\"weather_argonne_target.csv\")"
   ]
  },
  {
   "cell_type": "code",
   "execution_count": null,
   "metadata": {},
   "outputs": [],
   "source": []
  },
  {
   "cell_type": "code",
   "execution_count": null,
   "metadata": {},
   "outputs": [],
   "source": []
  },
  {
   "cell_type": "code",
   "execution_count": null,
   "metadata": {},
   "outputs": [],
   "source": []
  },
  {
   "cell_type": "code",
   "execution_count": null,
   "metadata": {},
   "outputs": [],
   "source": []
  }
 ],
 "metadata": {
  "kernelspec": {
   "display_name": "Python 3",
   "language": "python",
   "name": "python3"
  },
  "language_info": {
   "codemirror_mode": {
    "name": "ipython",
    "version": 3
   },
   "file_extension": ".py",
   "mimetype": "text/x-python",
   "name": "python",
   "nbconvert_exporter": "python",
   "pygments_lexer": "ipython3",
   "version": "3.7.3"
  }
 },
 "nbformat": 4,
 "nbformat_minor": 2
}
