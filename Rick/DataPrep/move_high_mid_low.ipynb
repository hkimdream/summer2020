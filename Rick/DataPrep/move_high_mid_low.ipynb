{
 "cells": [
  {
   "cell_type": "markdown",
   "metadata": {},
   "source": [
    "# Move month_day_hour folders into class folders"
   ]
  },
  {
   "cell_type": "code",
   "execution_count": 11,
   "metadata": {},
   "outputs": [],
   "source": [
    "import pandas as pd \n",
    "import os\n",
    "import glob\n",
    "import shutil"
   ]
  },
  {
   "cell_type": "code",
   "execution_count": 2,
   "metadata": {},
   "outputs": [],
   "source": [
    "working_dir = \"/Volumes/Samsung_T5/lcrc_test\"\n",
    "os.chdir(working_dir)"
   ]
  },
  {
   "cell_type": "code",
   "execution_count": null,
   "metadata": {},
   "outputs": [],
   "source": [
    "weather_df = pd.read_csv(working_dir+\"/weather_argonne_target.csv\")\n",
    "weather_df = weather_df.iloc[:,1:]\n",
    "weather_df.head()"
   ]
  },
  {
   "cell_type": "code",
   "execution_count": null,
   "metadata": {},
   "outputs": [],
   "source": [
    "dates = weather_df[\"p_date\"].values\n",
    "for i, name in enumerate(dates):\n",
    "    hour = name.split(\"_\")[-1]\n",
    "    hour = int(hour) - 1\n",
    "    if hour < 10:\n",
    "        hour = \"0\"+str(hour)\n",
    "    else: hour = str(hour)    \n",
    "    front = name.split(\"_\")\n",
    "    front = \"_\".join(front[1:3])\n",
    "    dates[i] = front+\"_\"+hour\n",
    "\n",
    "weather_df[\"dates\"] = dates\n",
    "weather_df.head()"
   ]
  },
  {
   "cell_type": "code",
   "execution_count": null,
   "metadata": {},
   "outputs": [],
   "source": [
    "sample_dates = os.listdir(\"data_samples\")\n",
    "sample_dates.sort()\n",
    "print(sample_dates[:5])"
   ]
  },
  {
   "cell_type": "code",
   "execution_count": null,
   "metadata": {},
   "outputs": [],
   "source": [
    "os.mkdir(\"data_samples/low\")\n",
    "os.mkdir(\"data_samples/mid\")\n",
    "os.mkdir(\"data_samples/high\")"
   ]
  },
  {
   "cell_type": "code",
   "execution_count": null,
   "metadata": {},
   "outputs": [],
   "source": [
    "cut_weather = weather_df[[\"target\",\"dates\"]]\n",
    "cut_weather.head()"
   ]
  },
  {
   "cell_type": "code",
   "execution_count": null,
   "metadata": {},
   "outputs": [],
   "source": [
    "target_values = cut_weather[\"target\"].values\n",
    "for i, val in enumerate(target_values):\n",
    "    if val == 0:\n",
    "        shutil.move(\"data_samples/\"+sample_dates[i],\"data_samples/low/\"+sample_dates[i])  \n",
    "    if val == 1:\n",
    "        shutil.move(\"data_samples/\"+sample_dates[i],\"data_samples/mid/\"+sample_dates[i])   \n",
    "    if val == 2:\n",
    "        shutil.move(\"data_samples/\"+sample_dates[i],\"data_samples/high/\"+sample_dates[i])"
   ]
  },
  {
   "cell_type": "markdown",
   "metadata": {},
   "source": [
    "## Make into three dir top, bottom, flir\n",
    "## Inside each: high, mid, low"
   ]
  },
  {
   "cell_type": "code",
   "execution_count": 26,
   "metadata": {},
   "outputs": [],
   "source": [
    "os.mkdir(\"data_samples/top\")\n",
    "os.mkdir(\"data_samples/top/high\")\n",
    "os.mkdir(\"data_samples/top/mid\")\n",
    "os.mkdir(\"data_samples/top/low\")\n",
    "\n",
    "os.mkdir(\"data_samples/bottom\")\n",
    "os.mkdir(\"data_samples/bottom/high\")\n",
    "os.mkdir(\"data_samples/bottom/mid\")\n",
    "os.mkdir(\"data_samples/bottom/low\")\n",
    "\n",
    "os.mkdir(\"data_samples/flir\")\n",
    "os.mkdir(\"data_samples/flir/high\")\n",
    "os.mkdir(\"data_samples/flir/mid\")\n",
    "os.mkdir(\"data_samples/flir/low\")"
   ]
  },
  {
   "cell_type": "code",
   "execution_count": 27,
   "metadata": {},
   "outputs": [],
   "source": [
    "high_folders = os.listdir(\"data_samples/high\")\n",
    "for i,folder in enumerate(high_folders):\n",
    "    flir_pics = glob.glob(\"data_samples/high\"+\"/\"+folder+\"/*flir.jpg\")\n",
    "    top_pics = glob.glob(\"data_samples/high\"+\"/\"+folder+\"/*top.jpg\")\n",
    "    bottom_pics = glob.glob(\"data_samples/high\"+\"/\"+folder+\"/*bottom.jpg\")\n",
    "    \n",
    "    for j,src in enumerate(flir_pics):\n",
    "        file_name = src.split(\"/\")[-1]\n",
    "        file_name = file_name.split(\"_\")\n",
    "        file_name = \"_\".join(file_name[:-1])\n",
    "        file_name = file_name+\".jpg\"\n",
    "        shutil.copy(src,\"data_samples/flir/high/\"+file_name)\n",
    "    \n",
    "    for j,src in enumerate(top_pics):\n",
    "        file_name = src.split(\"/\")[-1]\n",
    "        file_name = file_name.split(\"_\")\n",
    "        file_name = \"_\".join(file_name[:-1])\n",
    "        file_name = file_name+\".jpg\"\n",
    "        shutil.copy(src,\"data_samples/top/high/\"+file_name)\n",
    "        \n",
    "    for j,src in enumerate(bottom_pics):\n",
    "        file_name = src.split(\"/\")[-1]\n",
    "        file_name = file_name.split(\"_\")\n",
    "        file_name = \"_\".join(file_name[:-1])\n",
    "        file_name = file_name+\".jpg\"\n",
    "        shutil.copy(src,\"data_samples/bottom/high/\"+file_name)        "
   ]
  },
  {
   "cell_type": "code",
   "execution_count": 28,
   "metadata": {},
   "outputs": [],
   "source": [
    "low_folders = os.listdir(\"data_samples/low\")\n",
    "for i,folder in enumerate(low_folders):\n",
    "    flir_pics = glob.glob(\"data_samples/low\"+\"/\"+folder+\"/*flir.jpg\")\n",
    "    top_pics = glob.glob(\"data_samples/low\"+\"/\"+folder+\"/*top.jpg\")\n",
    "    bottom_pics = glob.glob(\"data_samples/low\"+\"/\"+folder+\"/*bottom.jpg\")\n",
    "    \n",
    "    for j,src in enumerate(flir_pics):\n",
    "        file_name = src.split(\"/\")[-1]\n",
    "        file_name = file_name.split(\"_\")\n",
    "        file_name = \"_\".join(file_name[:-1])\n",
    "        file_name = file_name+\".jpg\"\n",
    "        shutil.copy(src,\"data_samples/flir/low/\"+file_name)\n",
    "    \n",
    "    for j,src in enumerate(top_pics):\n",
    "        file_name = src.split(\"/\")[-1]\n",
    "        file_name = file_name.split(\"_\")\n",
    "        file_name = \"_\".join(file_name[:-1])\n",
    "        file_name = file_name+\".jpg\"\n",
    "        shutil.copy(src,\"data_samples/top/low/\"+file_name)\n",
    "        \n",
    "    for j,src in enumerate(bottom_pics):\n",
    "        file_name = src.split(\"/\")[-1]\n",
    "        file_name = file_name.split(\"_\")\n",
    "        file_name = \"_\".join(file_name[:-1])\n",
    "        file_name = file_name+\".jpg\"\n",
    "        shutil.copy(src,\"data_samples/bottom/low/\"+file_name) "
   ]
  },
  {
   "cell_type": "code",
   "execution_count": 29,
   "metadata": {},
   "outputs": [],
   "source": [
    "mid_folders = os.listdir(\"data_samples/mid\")\n",
    "for i,folder in enumerate(mid_folders):\n",
    "    flir_pics = glob.glob(\"data_samples/mid\"+\"/\"+folder+\"/*flir.jpg\")\n",
    "    top_pics = glob.glob(\"data_samples/mid\"+\"/\"+folder+\"/*top.jpg\")\n",
    "    bottom_pics = glob.glob(\"data_samples/mid\"+\"/\"+folder+\"/*bottom.jpg\")\n",
    "    \n",
    "    for j,src in enumerate(flir_pics):\n",
    "        file_name = src.split(\"/\")[-1]\n",
    "        file_name = file_name.split(\"_\")\n",
    "        file_name = \"_\".join(file_name[:-1])\n",
    "        file_name = file_name+\".jpg\"\n",
    "        shutil.copy(src,\"data_samples/flir/mid/\"+file_name)\n",
    "    \n",
    "    for j,src in enumerate(top_pics):\n",
    "        file_name = src.split(\"/\")[-1]\n",
    "        file_name = file_name.split(\"_\")\n",
    "        file_name = \"_\".join(file_name[:-1])\n",
    "        file_name = file_name+\".jpg\"\n",
    "        shutil.copy(src,\"data_samples/top/mid/\"+file_name)\n",
    "        \n",
    "    for j,src in enumerate(bottom_pics):\n",
    "        file_name = src.split(\"/\")[-1]\n",
    "        file_name = file_name.split(\"_\")\n",
    "        file_name = \"_\".join(file_name[:-1])\n",
    "        file_name = file_name+\".jpg\"\n",
    "        shutil.copy(src,\"data_samples/bottom/mid/\"+file_name) "
   ]
  },
  {
   "cell_type": "code",
   "execution_count": null,
   "metadata": {},
   "outputs": [],
   "source": []
  },
  {
   "cell_type": "code",
   "execution_count": null,
   "metadata": {},
   "outputs": [],
   "source": []
  }
 ],
 "metadata": {
  "kernelspec": {
   "display_name": "Python 3",
   "language": "python",
   "name": "python3"
  },
  "language_info": {
   "codemirror_mode": {
    "name": "ipython",
    "version": 3
   },
   "file_extension": ".py",
   "mimetype": "text/x-python",
   "name": "python",
   "nbconvert_exporter": "python",
   "pygments_lexer": "ipython3",
   "version": "3.7.3"
  }
 },
 "nbformat": 4,
 "nbformat_minor": 2
}
