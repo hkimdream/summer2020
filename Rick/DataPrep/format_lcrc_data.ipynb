{
 "cells": [
  {
   "cell_type": "markdown",
   "metadata": {},
   "source": [
    "# Make data set"
   ]
  },
  {
   "cell_type": "code",
   "execution_count": 1,
   "metadata": {},
   "outputs": [],
   "source": [
    "import os\n",
    "import pandas as pd \n",
    "import glob\n",
    "import shutil"
   ]
  },
  {
   "cell_type": "code",
   "execution_count": 2,
   "metadata": {},
   "outputs": [],
   "source": [
    "\"\"\"\n",
    "Change data_path string value to whatever\n",
    "path on your machine that contains the lcrc_data fodler.\n",
    "\"\"\"\n",
    "\n",
    "data_path = \"/Volumes/Samsung_T5/lcrc_test\""
   ]
  },
  {
   "cell_type": "code",
   "execution_count": 3,
   "metadata": {},
   "outputs": [
    {
     "data": {
      "text/plain": [
       "['flir',\n",
       " 'image',\n",
       " 'weather_argonne_01_2020.csv',\n",
       " '.ipynb_checkpoints',\n",
       " 'weather_argonne_02_2020.csv',\n",
       " 'format_lcrc_data.ipynb',\n",
       " '._format_lcrc_data.ipynb',\n",
       " 'weather_argonne_03_2020.csv',\n",
       " 'weather_argonne_04_2020.csv']"
      ]
     },
     "execution_count": 3,
     "metadata": {},
     "output_type": "execute_result"
    }
   ],
   "source": [
    "os.listdir(data_path)"
   ]
  },
  {
   "cell_type": "markdown",
   "metadata": {},
   "source": [
    "## Rename top views"
   ]
  },
  {
   "cell_type": "code",
   "execution_count": 4,
   "metadata": {},
   "outputs": [],
   "source": [
    "jan_top = data_path+\"/image/top/2020/01\"\n",
    "feb_top = data_path+\"/image/top/2020/02\"\n",
    "mar_top = data_path+\"/image/top/2020/03\"\n",
    "apr_top = data_path+\"/image/top/2020/04\"\n",
    "may_top = data_path+\"/image/top/2020/05\"\n",
    "jun_top = data_path+\"/image/top/2020/06\"\n",
    "\n",
    "top_months = [jan_top,feb_top,mar_top,apr_top,may_top,jun_top]"
   ]
  },
  {
   "cell_type": "code",
   "execution_count": 5,
   "metadata": {},
   "outputs": [],
   "source": [
    "# Rename top jan\n",
    "folders = os.listdir(jan_top)\n",
    "folders.sort()\n",
    "for i,day in enumerate(folders):\n",
    "    files = os.listdir(jan_top+\"/\"+day)\n",
    "    files.sort()\n",
    "    for j, file_name in enumerate(files):\n",
    "        new_file_name = file_name.split(':')\n",
    "        new_file_name = '_'.join(new_file_name[:2])\n",
    "        new_file_name = new_file_name.split(\"T\")\n",
    "        new_file_name = '_'.join(new_file_name)\n",
    "        new_file_name = new_file_name.split(\"-\")\n",
    "        new_file_name = '_'.join(new_file_name)\n",
    "        new_file_name = new_file_name + \"_top.jpg\"\n",
    "        os.rename(jan_top+\"/\"+day+\"/\"+file_name,jan_top+\"/\"+day+\"/\"+new_file_name)"
   ]
  },
  {
   "cell_type": "code",
   "execution_count": 6,
   "metadata": {},
   "outputs": [],
   "source": [
    "# Rename top feb\n",
    "folders = os.listdir(feb_top)\n",
    "folders.sort()\n",
    "for i,day in enumerate(folders):\n",
    "    files = os.listdir(feb_top+\"/\"+day)\n",
    "    files.sort()\n",
    "    for j, file_name in enumerate(files):\n",
    "        new_file_name = file_name.split(':')\n",
    "        new_file_name = '_'.join(new_file_name[:2])\n",
    "        new_file_name = new_file_name.split(\"T\")\n",
    "        new_file_name = '_'.join(new_file_name)\n",
    "        new_file_name = new_file_name.split(\"-\")\n",
    "        new_file_name = '_'.join(new_file_name)\n",
    "        new_file_name = new_file_name + \"_top.jpg\"\n",
    "        os.rename(feb_top+\"/\"+day+\"/\"+file_name,feb_top+\"/\"+day+\"/\"+new_file_name)"
   ]
  },
  {
   "cell_type": "code",
   "execution_count": 7,
   "metadata": {},
   "outputs": [],
   "source": [
    "# Rename top mar\n",
    "folders = os.listdir(mar_top)\n",
    "folders.sort()\n",
    "for i,day in enumerate(folders):\n",
    "    files = os.listdir(mar_top+\"/\"+day)\n",
    "    files.sort()\n",
    "    for j, file_name in enumerate(files):\n",
    "        new_file_name = file_name.split(':')\n",
    "        new_file_name = '_'.join(new_file_name[:2])\n",
    "        new_file_name = new_file_name.split(\"T\")\n",
    "        new_file_name = '_'.join(new_file_name)\n",
    "        new_file_name = new_file_name.split(\"-\")\n",
    "        new_file_name = '_'.join(new_file_name)\n",
    "        new_file_name = new_file_name + \"_top.jpg\"\n",
    "        os.rename(mar_top+\"/\"+day+\"/\"+file_name,mar_top+\"/\"+day+\"/\"+new_file_name)"
   ]
  },
  {
   "cell_type": "code",
   "execution_count": 8,
   "metadata": {},
   "outputs": [],
   "source": [
    "# Rename top apr\n",
    "folders = os.listdir(apr_top)\n",
    "folders.sort()\n",
    "for i,day in enumerate(folders):\n",
    "    files = os.listdir(apr_top+\"/\"+day)\n",
    "    files.sort()\n",
    "    for j, file_name in enumerate(files):\n",
    "        new_file_name = file_name.split(':')\n",
    "        new_file_name = '_'.join(new_file_name[:2])\n",
    "        new_file_name = new_file_name.split(\"T\")\n",
    "        new_file_name = '_'.join(new_file_name)\n",
    "        new_file_name = new_file_name.split(\"-\")\n",
    "        new_file_name = '_'.join(new_file_name)\n",
    "        new_file_name = new_file_name + \"_top.jpg\"\n",
    "        os.rename(apr_top+\"/\"+day+\"/\"+file_name,apr_top+\"/\"+day+\"/\"+new_file_name)"
   ]
  },
  {
   "cell_type": "code",
   "execution_count": 9,
   "metadata": {},
   "outputs": [],
   "source": [
    "# Rename top may\n",
    "folders = os.listdir(may_top)\n",
    "folders.sort()\n",
    "for i,day in enumerate(folders):\n",
    "    files = os.listdir(may_top+\"/\"+day)\n",
    "    files.sort()\n",
    "    for j, file_name in enumerate(files):\n",
    "        new_file_name = file_name.split(':')\n",
    "        new_file_name = '_'.join(new_file_name[:2])\n",
    "        new_file_name = new_file_name.split(\"T\")\n",
    "        new_file_name = '_'.join(new_file_name)\n",
    "        new_file_name = new_file_name.split(\"-\")\n",
    "        new_file_name = '_'.join(new_file_name)\n",
    "        new_file_name = new_file_name + \"_top.jpg\"\n",
    "        os.rename(may_top+\"/\"+day+\"/\"+file_name,may_top+\"/\"+day+\"/\"+new_file_name)"
   ]
  },
  {
   "cell_type": "code",
   "execution_count": 10,
   "metadata": {},
   "outputs": [],
   "source": [
    "# Rename top may\n",
    "folders = os.listdir(jun_top)\n",
    "folders.sort()\n",
    "for i,day in enumerate(folders):\n",
    "    files = os.listdir(jun_top+\"/\"+day)\n",
    "    files.sort()\n",
    "    for j, file_name in enumerate(files):\n",
    "        new_file_name = file_name.split(':')\n",
    "        new_file_name = '_'.join(new_file_name[:2])\n",
    "        new_file_name = new_file_name.split(\"T\")\n",
    "        new_file_name = '_'.join(new_file_name)\n",
    "        new_file_name = new_file_name.split(\"-\")\n",
    "        new_file_name = '_'.join(new_file_name)\n",
    "        new_file_name = new_file_name + \"_top.jpg\"\n",
    "        os.rename(jun_top+\"/\"+day+\"/\"+file_name,jun_top+\"/\"+day+\"/\"+new_file_name)"
   ]
  },
  {
   "cell_type": "markdown",
   "metadata": {},
   "source": [
    "## Rename bottom views"
   ]
  },
  {
   "cell_type": "code",
   "execution_count": 11,
   "metadata": {},
   "outputs": [],
   "source": [
    "jan_bot = data_path+\"/image/bottom/2020/01\"\n",
    "feb_bot = data_path+\"/image/bottom/2020/02\"\n",
    "mar_bot = data_path+\"/image/bottom/2020/03\"\n",
    "apr_bot = data_path+\"/image/bottom/2020/04\"\n",
    "may_bot = data_path+\"/image/bottom/2020/05\"\n",
    "jun_bot = data_path+\"/image/bottom/2020/06\"\n",
    "bottom_months = [jan_bot,feb_bot,mar_bot,apr_bot,may_bot,jun_bot]"
   ]
  },
  {
   "cell_type": "code",
   "execution_count": 12,
   "metadata": {},
   "outputs": [],
   "source": [
    "# Rename bottoms months\n",
    "for k,month in enumerate(bottom_months):\n",
    "    folders = os.listdir(month)\n",
    "    folders.sort()\n",
    "    for i,day in enumerate(folders):\n",
    "        files = os.listdir(month+\"/\"+day)\n",
    "        files.sort()\n",
    "        for j, file_name in enumerate(files):\n",
    "            new_file_name = file_name.split(':')\n",
    "            new_file_name = '_'.join(new_file_name[:2])\n",
    "            new_file_name = new_file_name.split(\"T\")\n",
    "            new_file_name = '_'.join(new_file_name)\n",
    "            new_file_name = new_file_name.split(\"-\")\n",
    "            new_file_name = '_'.join(new_file_name)\n",
    "            new_file_name = new_file_name + \"_bottom.jpg\"\n",
    "            os.rename(month+\"/\"+day+\"/\"+file_name,month+\"/\"+day+\"/\"+new_file_name)"
   ]
  },
  {
   "cell_type": "markdown",
   "metadata": {},
   "source": [
    "## Rename flir"
   ]
  },
  {
   "cell_type": "code",
   "execution_count": 13,
   "metadata": {},
   "outputs": [],
   "source": [
    "jan_flir = data_path+\"/flir/bottom/2020/01\"\n",
    "feb_flir = data_path+\"/flir/bottom/2020/02\"\n",
    "mar_flir = data_path+\"/flir/bottom/2020/03\"\n",
    "apr_flir = data_path+\"/flir/bottom/2020/04\"\n",
    "may_flir = data_path+\"/flir/bottom/2020/05\"\n",
    "jun_flir = data_path+\"/flir/bottom/2020/06\"\n",
    "flir_months = [jan_flir,feb_flir,mar_flir,apr_flir,may_flir,jun_flir]"
   ]
  },
  {
   "cell_type": "code",
   "execution_count": 14,
   "metadata": {},
   "outputs": [],
   "source": [
    "# Rename flir months\n",
    "for k,month in enumerate(flir_months):\n",
    "    folders = os.listdir(month)\n",
    "    folders.sort()\n",
    "    for i,day in enumerate(folders):\n",
    "        files = os.listdir(month+\"/\"+day)\n",
    "        files.sort()\n",
    "        for j, file_name in enumerate(files):\n",
    "            new_file_name = file_name.split(':')\n",
    "            new_file_name = '_'.join(new_file_name[:2])\n",
    "            new_file_name = new_file_name.split(\"T\")\n",
    "            new_file_name = '_'.join(new_file_name)\n",
    "            new_file_name = new_file_name.split(\"-\")\n",
    "            new_file_name = '_'.join(new_file_name)\n",
    "            new_file_name = new_file_name + \"_flir.jpg\"\n",
    "            os.rename(month+\"/\"+day+\"/\"+file_name,month+\"/\"+day+\"/\"+new_file_name)"
   ]
  },
  {
   "cell_type": "markdown",
   "metadata": {},
   "source": [
    "## Copy selected days from each month into new folder"
   ]
  },
  {
   "cell_type": "code",
   "execution_count": 15,
   "metadata": {},
   "outputs": [],
   "source": [
    "data_path_top_c = data_path+\"/top_c\"\n",
    "data_path_bottom_c = data_path+\"/bottom_c\"\n",
    "data_path_flir_c = data_path+\"/flir_c\""
   ]
  },
  {
   "cell_type": "code",
   "execution_count": 16,
   "metadata": {},
   "outputs": [],
   "source": [
    "os.mkdir(data_path_top_c)\n",
    "os.mkdir(data_path_bottom_c)\n",
    "os.mkdir(data_path_flir_c)"
   ]
  },
  {
   "cell_type": "code",
   "execution_count": 17,
   "metadata": {},
   "outputs": [],
   "source": [
    "jan_days = [\"23\",\"24\",\"25\",\"26\",\"27\",\"28\",\"29\",\"30\",\"31\"]\n",
    "feb_days = [\"01\",\"02\",\"03\",\"04\",\"05\",\"06\",\"07\",\"08\",\"09\",\"10\",\\\n",
    "           \"11\",\"12\",\"13\",\"14\",\"15\",\"16\",\"17\",\"18\",\"19\",\"20\",\"21\",\"22\"]\n",
    "mar_days = [\"10\",\"11\",\"12\",\"13\",\"14\",\"15\",\"16\",\"17\",\"18\",\"19\",\"20\",\"21\",\\\n",
    "            \"22\",\"23\",\"24\",\"25\",\"26\",\"27\",\"28\",\"29\",\"30\",\"31\"]\n",
    "apr_days = [\"01\",\"02\",\"03\",\"04\",\"05\",\"06\",\"07\",\"08\",\"09\",\\\n",
    "            \"10\",\"11\",\"12\",\"13\",\"14\",\"15\",\"16\",\"17\",\"18\",\"19\",\"20\",\"21\",\\\n",
    "            \"22\",\"23\",\"24\",\"25\",\"26\",\"27\",\"28\",\"29\",\"30\",\"31\"]\n",
    "\n",
    "days_to_copy = [jan_days,feb_days,mar_days,apr_days]"
   ]
  },
  {
   "cell_type": "markdown",
   "metadata": {},
   "source": [
    "### Copy top images"
   ]
  },
  {
   "cell_type": "code",
   "execution_count": 18,
   "metadata": {},
   "outputs": [],
   "source": [
    "for k,month in enumerate(top_months[:4]):\n",
    "    folders = os.listdir(month)\n",
    "    folders.sort()\n",
    "    for i,day in enumerate(folders):\n",
    "        if day in days_to_copy[k]:\n",
    "            shutil.copytree(month+\"/\"+day, data_path_top_c+\"/0\"+str(k+1)+\"_\"+day)"
   ]
  },
  {
   "cell_type": "markdown",
   "metadata": {},
   "source": [
    "### Copy bottom images"
   ]
  },
  {
   "cell_type": "code",
   "execution_count": 19,
   "metadata": {},
   "outputs": [],
   "source": [
    "for k,month in enumerate(bottom_months[:4]):\n",
    "    folders = os.listdir(month)\n",
    "    folders.sort()\n",
    "    for i,day in enumerate(folders):\n",
    "        if day in days_to_copy[k]:\n",
    "            shutil.copytree(month+\"/\"+day, data_path_bottom_c+\"/0\"+str(k+1)+\"_\"+day)"
   ]
  },
  {
   "cell_type": "markdown",
   "metadata": {},
   "source": [
    "### Copy flir images"
   ]
  },
  {
   "cell_type": "code",
   "execution_count": 20,
   "metadata": {},
   "outputs": [],
   "source": [
    "for k,month in enumerate(flir_months[:4]):\n",
    "    folders = os.listdir(month)\n",
    "    folders.sort()\n",
    "    for i,day in enumerate(folders):\n",
    "        if day in days_to_copy[k]:\n",
    "            shutil.copytree(month+\"/\"+day, data_path_flir_c+\"/0\"+str(k+1)+\"_\"+day)"
   ]
  },
  {
   "cell_type": "markdown",
   "metadata": {},
   "source": [
    "## Remove days where one or more cameras were offline"
   ]
  },
  {
   "cell_type": "code",
   "execution_count": 21,
   "metadata": {},
   "outputs": [],
   "source": [
    "days_to_remove = [\"01_26\",\"04_10\",\"04_11\",\"04_12\",\"04_13\",\"04_14\",\\\n",
    "                 \"04_15\",\"04_16\",\"04_17\",\"04_18\",\"04_19\",\"04_20\",\\\n",
    "                 \"04_21\",\"04_22\",\"04_23\",\"04_24\",\"04_25\",\"04_26\",\\\n",
    "                 \"04_27\",\"04_28\",\"04_29\",\"04_30\"]"
   ]
  },
  {
   "cell_type": "markdown",
   "metadata": {},
   "source": [
    "### Remove empty top"
   ]
  },
  {
   "cell_type": "code",
   "execution_count": 22,
   "metadata": {},
   "outputs": [],
   "source": [
    "for i,day_r in enumerate(days_to_remove):\n",
    "    shutil.rmtree(data_path_top_c+\"/\"+day_r)"
   ]
  },
  {
   "cell_type": "markdown",
   "metadata": {},
   "source": [
    "### Remove empty bottom"
   ]
  },
  {
   "cell_type": "code",
   "execution_count": 23,
   "metadata": {},
   "outputs": [],
   "source": [
    "for i,day_r in enumerate(days_to_remove):\n",
    "    shutil.rmtree(data_path_bottom_c+\"/\"+day_r)"
   ]
  },
  {
   "cell_type": "markdown",
   "metadata": {},
   "source": [
    "### Remove empty flir"
   ]
  },
  {
   "cell_type": "code",
   "execution_count": 24,
   "metadata": {},
   "outputs": [],
   "source": [
    "for i,day_r in enumerate(days_to_remove):\n",
    "    shutil.rmtree(data_path_flir_c+\"/\"+day_r)"
   ]
  },
  {
   "cell_type": "markdown",
   "metadata": {},
   "source": [
    "## Check for 1 to 1 between folders and pics"
   ]
  },
  {
   "cell_type": "code",
   "execution_count": 25,
   "metadata": {},
   "outputs": [
    {
     "name": "stdout",
     "output_type": "stream",
     "text": [
      "['01_23', '01_24', '01_25', '01_27', '01_28', '01_29', '01_30', '01_31', '02_01', '02_02', '02_03', '02_04', '02_05', '02_06', '02_07', '02_08', '02_09', '02_10', '02_11', '02_12', '02_13', '02_14', '02_15', '02_16', '02_17', '02_18', '02_19', '02_20', '02_21', '02_22', '03_10', '03_11', '03_12', '03_13', '03_14', '03_15', '03_16', '03_17', '03_18', '03_19', '03_20', '03_21', '03_22', '03_23', '03_24', '03_25', '03_26', '03_27', '03_28', '03_29', '03_30', '03_31', '04_01', '04_02', '04_03', '04_04', '04_05', '04_06', '04_07', '04_08', '04_09']\n"
     ]
    }
   ],
   "source": [
    "days_with_pics = os.listdir(data_path_flir_c)\n",
    "print(days_with_pics)"
   ]
  },
  {
   "cell_type": "code",
   "execution_count": 26,
   "metadata": {},
   "outputs": [],
   "source": [
    "from operator import methodcaller\n",
    "\n",
    "outlier_top = []\n",
    "outlier_bottom = [] \n",
    "outlier_flir = []\n",
    "\n",
    "for i,day in enumerate(days_with_pics):\n",
    "    pics_top = os.listdir(os.path.join(data_path_top_c,day))\n",
    "    pics_bottom = os.listdir(os.path.join(data_path_bottom_c,day))\n",
    "    pics_flir = os.listdir(os.path.join(data_path_flir_c,day))\n",
    "    \n",
    "    # Split top\n",
    "    pics_top = list(map(methodcaller(\"split\",\"_top.jpg\"), pics_top))\n",
    "    pics_top = [string[0] for i,string in enumerate(pics_top)]\n",
    "    for i,name in enumerate(pics_top):\n",
    "        if \"._\" in name: \n",
    "            name = name.split(\"._\")\n",
    "            pics_top[i] = name[1]\n",
    "    \n",
    "    # Split bottom\n",
    "    pics_bottom = list(map(methodcaller(\"split\",\"_bottom.jpg\"), pics_bottom))\n",
    "    pics_bottom = [string[0] for i,string in enumerate(pics_bottom)]\n",
    "    for i,name in enumerate(pics_bottom):\n",
    "        if \"._\" in name: \n",
    "            name = name.split(\"._\")\n",
    "            pics_bottom[i] = name[1]\n",
    "    \n",
    "    # Split flir\n",
    "    pics_flir = list(map(methodcaller(\"split\",\"_flir.jpg\"), pics_flir))\n",
    "    pics_flir = [string[0] for i,string in enumerate(pics_flir)]\n",
    "    for i,name in enumerate(pics_flir):\n",
    "        if \"._\" in name: \n",
    "            name = name.split(\"._\")\n",
    "            pics_flir[i] = name[1]\n",
    "    \n",
    "    # Place outliers in list    \n",
    "    pics_top, pics_bottom, pics_flir = set(pics_top), set(pics_bottom), set(pics_flir)  \n",
    "    pic_intersects = pics_top.intersection(pics_bottom, pics_flir)\n",
    "    \n",
    "    # Check top pics\n",
    "    top_pics_day_out = []\n",
    "    for i,pic in enumerate(pics_top):\n",
    "        if pic not in pic_intersects: top_pics_day_out.append(data_path_top_c+\\\n",
    "                                \"/\"+day+\"/\"+pic+\"_top.jpg\")\n",
    "    outlier_top.append(top_pics_day_out)  \n",
    "    \n",
    "    # Check bottom pics\n",
    "    bottom_pics_day_out = []\n",
    "    for i,pic in enumerate(pics_bottom):\n",
    "        if pic not in pic_intersects: bottom_pics_day_out.append(data_path_bottom_c+\\\n",
    "                                \"/\"+day+\"/\"+pic+\"_bottom.jpg\")\n",
    "    outlier_bottom.append(bottom_pics_day_out)  \n",
    "    \n",
    "    # Check flir pics\n",
    "    flir_pics_day_out = []\n",
    "    for i,pic in enumerate(pics_flir):\n",
    "        if pic not in pic_intersects: flir_pics_day_out.append(data_path_flir_c+\\\n",
    "                                \"/\"+day+\"/\"+pic+\"_flir.jpg\")\n",
    "    outlier_flir.append(flir_pics_day_out)       "
   ]
  },
  {
   "cell_type": "code",
   "execution_count": 27,
   "metadata": {},
   "outputs": [
    {
     "name": "stdout",
     "output_type": "stream",
     "text": [
      "190 28 28\n"
     ]
    }
   ],
   "source": [
    "from itertools import chain\n",
    "\n",
    "merged_top = list(chain.from_iterable(outlier_top))\n",
    "merged_bottom = list(chain.from_iterable(outlier_bottom))\n",
    "merged_flir = list(chain.from_iterable(outlier_flir))\n",
    "\n",
    "print(len(merged_top),len(merged_bottom),len(merged_flir))"
   ]
  },
  {
   "cell_type": "code",
   "execution_count": 28,
   "metadata": {},
   "outputs": [
    {
     "name": "stdout",
     "output_type": "stream",
     "text": [
      "/Volumes/Samsung_T5/lcrc_test/top_c/01_23/2020_01_23_00_40_top.jpg\n",
      "/Volumes/Samsung_T5/lcrc_test/bottom_c/01_28/2020_01_28_11_50_bottom.jpg\n",
      "/Volumes/Samsung_T5/lcrc_test/flir_c/01_28/2020_01_28_11_50_flir.jpg\n"
     ]
    }
   ],
   "source": [
    "print(merged_top[0])\n",
    "print(merged_bottom[0])\n",
    "print(merged_flir[0])"
   ]
  },
  {
   "cell_type": "markdown",
   "metadata": {},
   "source": [
    "### Remove pics with non 1-1 match"
   ]
  },
  {
   "cell_type": "code",
   "execution_count": 29,
   "metadata": {},
   "outputs": [
    {
     "data": {
      "text/plain": [
       "[None,\n",
       " None,\n",
       " None,\n",
       " None,\n",
       " None,\n",
       " None,\n",
       " None,\n",
       " None,\n",
       " None,\n",
       " None,\n",
       " None,\n",
       " None,\n",
       " None,\n",
       " None,\n",
       " None,\n",
       " None,\n",
       " None,\n",
       " None,\n",
       " None,\n",
       " None,\n",
       " None,\n",
       " None,\n",
       " None,\n",
       " None,\n",
       " None,\n",
       " None,\n",
       " None,\n",
       " None]"
      ]
     },
     "execution_count": 29,
     "metadata": {},
     "output_type": "execute_result"
    }
   ],
   "source": [
    "[os.remove(file_name) for i,file_name in enumerate(merged_top)]\n",
    "[os.remove(file_name) for i,file_name in enumerate(merged_bottom)]\n",
    "[os.remove(file_name) for i,file_name in enumerate(merged_flir)]"
   ]
  },
  {
   "cell_type": "code",
   "execution_count": 30,
   "metadata": {},
   "outputs": [
    {
     "name": "stdout",
     "output_type": "stream",
     "text": [
      "133 133 133\n",
      "138 138 138\n",
      "44 44 44\n",
      "30 30 30\n",
      "138 138 138\n",
      "137 137 137\n",
      "141 141 141\n",
      "139 139 139\n",
      "139 139 139\n",
      "139 139 139\n",
      "142 142 142\n",
      "139 139 139\n",
      "138 138 138\n",
      "137 137 137\n",
      "139 139 139\n",
      "130 130 130\n",
      "133 133 133\n",
      "141 141 141\n",
      "135 135 135\n",
      "139 139 139\n",
      "134 134 134\n",
      "132 132 132\n",
      "141 141 141\n",
      "133 133 133\n",
      "133 133 133\n",
      "138 138 138\n",
      "130 130 130\n",
      "138 138 138\n",
      "135 135 135\n",
      "67 67 67\n",
      "14 14 14\n",
      "137 137 137\n",
      "118 118 118\n",
      "125 125 125\n",
      "142 142 142\n",
      "131 131 131\n",
      "128 128 128\n",
      "139 139 139\n",
      "125 125 125\n",
      "133 133 133\n",
      "138 138 138\n",
      "127 127 127\n",
      "135 135 135\n",
      "131 131 131\n",
      "128 128 128\n",
      "138 138 138\n",
      "132 132 132\n",
      "129 129 129\n",
      "135 135 135\n",
      "121 121 121\n",
      "124 124 124\n",
      "135 135 135\n",
      "124 124 124\n",
      "135 135 135\n",
      "136 136 136\n",
      "126 126 126\n",
      "129 129 129\n",
      "137 137 137\n",
      "125 125 125\n",
      "124 124 124\n",
      "77 77 77\n"
     ]
    }
   ],
   "source": [
    "outlier_top = []\n",
    "outlier_bottom = [] \n",
    "outlier_flir = []\n",
    "\n",
    "for i,day in enumerate(days_with_pics):\n",
    "    pics_top = os.listdir(os.path.join(data_path_top_c,day))\n",
    "    pics_bottom = os.listdir(os.path.join(data_path_bottom_c,day))\n",
    "    pics_flir = os.listdir(os.path.join(data_path_flir_c,day))\n",
    "    \n",
    "    # Split top\n",
    "    pics_top = list(map(methodcaller(\"split\",\"_top.jpg\"), pics_top))\n",
    "    pics_top = [string[0] for i,string in enumerate(pics_top)]\n",
    "    for i,name in enumerate(pics_top):\n",
    "        if \"._\" in name: \n",
    "            name = name.split(\"._\")\n",
    "            pics_top[i] = name[1]\n",
    "    \n",
    "    # Split bottom\n",
    "    pics_bottom = list(map(methodcaller(\"split\",\"_bottom.jpg\"), pics_bottom))\n",
    "    pics_bottom = [string[0] for i,string in enumerate(pics_bottom)]\n",
    "    for i,name in enumerate(pics_bottom):\n",
    "        if \"._\" in name: \n",
    "            name = name.split(\"._\")\n",
    "            pics_bottom[i] = name[1]\n",
    "    \n",
    "    # Split flir\n",
    "    pics_flir = list(map(methodcaller(\"split\",\"_flir.jpg\"), pics_flir))\n",
    "    pics_flir = [string[0] for i,string in enumerate(pics_flir)]\n",
    "    for i,name in enumerate(pics_flir):\n",
    "        if \"._\" in name: \n",
    "            name = name.split(\"._\")\n",
    "            pics_flir[i] = name[1]\n",
    "    \n",
    "    # Place outliers in list    \n",
    "    pics_top, pics_bottom, pics_flir = set(pics_top), set(pics_bottom), set(pics_flir)  \n",
    "    pic_intersects = pics_top.intersection(pics_bottom, pics_flir)\n",
    "    \n",
    "    if len(pic_intersects) != len(pics_top) and len(pics_bottom) and len(pics_flir):\n",
    "        print(\"ahhh poop\")\n",
    "    else: print (len(pics_top),len(pics_bottom),len(pics_flir))    "
   ]
  },
  {
   "cell_type": "markdown",
   "metadata": {},
   "source": [
    "## Check for full hour sets"
   ]
  },
  {
   "cell_type": "code",
   "execution_count": 31,
   "metadata": {},
   "outputs": [],
   "source": [
    "sampled_data = data_path+\"/data_samples\"\n",
    "os.mkdir(sampled_data)"
   ]
  },
  {
   "cell_type": "code",
   "execution_count": 32,
   "metadata": {},
   "outputs": [
    {
     "name": "stdout",
     "output_type": "stream",
     "text": [
      "['00', '01', '02', '03', '04', '05', '06', '07', '08', '09', '10', '11', '12', '13', '14', '15', '16', '17', '18', '19', '20', '21', '22', '23']\n",
      "['01_23', '01_24', '01_25', '01_27', '01_28', '01_29', '01_30', '01_31', '02_01', '02_02', '02_03', '02_04', '02_05', '02_06', '02_07', '02_08', '02_09', '02_10', '02_11', '02_12', '02_13', '02_14', '02_15', '02_16', '02_17', '02_18', '02_19', '02_20', '02_21', '02_22', '03_10', '03_11', '03_12', '03_13', '03_14', '03_15', '03_16', '03_17', '03_18', '03_19', '03_20', '03_21', '03_22', '03_23', '03_24', '03_25', '03_26', '03_27', '03_28', '03_29', '03_30', '03_31', '04_01', '04_02', '04_03', '04_04', '04_05', '04_06', '04_07', '04_08', '04_09']\n"
     ]
    }
   ],
   "source": [
    "\"\"\"\n",
    "data_path_top_c \n",
    "data_path_bottom_c \n",
    "data_path_flir_c \n",
    "\"\"\"\n",
    "\n",
    "time_periods = [\"00\",\"10\",\"20\",\"30\",\"40\",\"50\"]\n",
    "\n",
    "hours = ['00','01','02','03','04','05','06','07',\\\n",
    "         '08','09','10','11','12','13','14','15',\\\n",
    "         '16','17','18','19','20','21','22','23']\n",
    "\n",
    "days_with_pics = os.listdir(data_path_top_c)\n",
    "print(hours)\n",
    "print(days_with_pics)"
   ]
  },
  {
   "cell_type": "code",
   "execution_count": 35,
   "metadata": {},
   "outputs": [
    {
     "name": "stdout",
     "output_type": "stream",
     "text": [
      "Numer of samples: 988\n"
     ]
    }
   ],
   "source": [
    "count_data = 0\n",
    "\n",
    "for k,month_day in enumerate(days_with_pics):\n",
    "    pics_month_day_top = os.listdir(data_path_top_c +\"/\"+month_day)\n",
    "    pics_month_day_bottom = os.listdir(data_path_bottom_c +\"/\"+month_day)\n",
    "    pics_month_day_flir = os.listdir(data_path_flir_c +\"/\"+month_day)\n",
    "    \n",
    "    for i,hour in enumerate(hours):\n",
    "        pics_hour = []\n",
    "        [pics_hour.append(\"2020_\"+month_day+\"_\"+hour+\"_\"+period) for j,\\\n",
    "             period in enumerate(time_periods)]\n",
    "        \n",
    "        \"\"\"\n",
    "        Mmmmm some nice logic ..\n",
    "        \"\"\"\n",
    "        \n",
    "        # Check required pics in top\n",
    "        pics_hour_top = []\n",
    "        pics_hour_top = [name+\"_top.jpg\" for i,name in enumerate(pics_hour)]\n",
    "        if all(i in pics_month_day_top for i in pics_hour_top):\n",
    "            # Check required pics in bottom\n",
    "            pics_hour_bottom = []\n",
    "            pics_hour_bottom = [name+\"_bottom.jpg\" for i,name in enumerate(pics_hour)]\n",
    "            if all(i in pics_month_day_bottom for i in pics_hour_bottom):   \n",
    "               # Check required pics in bottom\n",
    "                pics_hour_flir = []\n",
    "                pics_hour_flir = [name+\"_flir.jpg\" for i,name in enumerate(pics_hour)]\n",
    "                if all(i in pics_month_day_flir for i in pics_hour_flir):  \n",
    "                    \"\"\"\n",
    "                    If all three task are met then and only then!!!\n",
    "                    Shall we copy the photos loel boi!\n",
    "                    \"\"\"\n",
    "                    \n",
    "                    working_dir = sampled_data+\"/\"+month_day+\"_\"+hour\n",
    "                    os.mkdir(working_dir)\n",
    "                    count_data += 1\n",
    "                    \n",
    "                    \"\"\"\n",
    "                    Go grab the images and copy them to the folder\n",
    "                    \"\"\"\n",
    "                    \n",
    "                    # Copy over top pics \n",
    "                    for i,name in enumerate(pics_hour_top):\n",
    "                        shutil.copy(data_path_top_c +\"/\"+month_day+\"/\"+name, working_dir) \n",
    "                    \n",
    "                    # Copy over bottom pics \n",
    "                    for i,name in enumerate(pics_hour_bottom):\n",
    "                        shutil.copy(data_path_bottom_c +\"/\"+month_day+\"/\"+name, working_dir) \n",
    "                    \n",
    "                    # Copy over flir pics \n",
    "                    for i,name in enumerate(pics_hour_flir):\n",
    "                        shutil.copy(data_path_flir_c +\"/\"+month_day+\"/\"+name, working_dir) \n",
    "\n",
    "print(\"Numer of samples: \"+str(count_data))"
   ]
  },
  {
   "cell_type": "markdown",
   "metadata": {},
   "source": [
    "## Assemble Weather data"
   ]
  },
  {
   "cell_type": "code",
   "execution_count": 36,
   "metadata": {},
   "outputs": [
    {
     "name": "stdout",
     "output_type": "stream",
     "text": [
      "988\n"
     ]
    }
   ],
   "source": [
    "day_hour_data = os.listdir(data_path+\"/data_samples\")\n",
    "print(len(day_hour_data))"
   ]
  },
  {
   "cell_type": "code",
   "execution_count": 37,
   "metadata": {},
   "outputs": [],
   "source": [
    "jan_weather_path = data_path + \"/weather_argonne_01_2020.csv\"\n",
    "feb_weather_path = data_path + \"/weather_argonne_02_2020.csv\"\n",
    "mar_weather_path = data_path + \"/weather_argonne_03_2020.csv\"\n",
    "apr_weather_path = data_path + \"/weather_argonne_04_2020.csv\""
   ]
  },
  {
   "cell_type": "code",
   "execution_count": 38,
   "metadata": {},
   "outputs": [],
   "source": [
    "switch_hour = {\"30.0\": \"00\",\n",
    "               \"130.0\": \"01\",\n",
    "               \"230.0\": \"02\",\n",
    "               \"330.0\": \"03\",\n",
    "               \"430.0\": \"04\",\n",
    "                \"530.0\": \"05\",\n",
    "               \"630.0\": \"06\",\n",
    "               \"730.0\":\"07\",\n",
    "               \"830.0\":\"08\",\n",
    "               \"930.0\":\"09\",\n",
    "               \"1030.0\":\"10\",\n",
    "               \"1130.0\":\"11\",\n",
    "               \"1230.0\":\"12\",\n",
    "               \"1330.0\":\"13\",\n",
    "               \"1430.0\":\"14\",\n",
    "               \"1530.0\":\"15\",\n",
    "               \"1630.0\":\"16\",\n",
    "               \"1730.0\":\"17\",\n",
    "               \"1830.0\":\"18\",\n",
    "               \"1930.0\":\"19\",\n",
    "               \"2030.0\":\"20\",\n",
    "               \"2130.0\":\"21\",\n",
    "               \"2230.0\":\"22\",\n",
    "               \"2330.0\":\"23\",\n",
    "              }\n",
    "\n",
    "switch_day = {\"1\":\"01\",\n",
    "              \"2\":\"02\",\n",
    "              \"3\":\"03\",\n",
    "              \"4\":\"04\",\n",
    "              \"5\":\"05\",\n",
    "              \"6\":\"06\",\n",
    "              \"7\":\"07\",\n",
    "              \"8\":\"08\",\n",
    "              \"9\":\"09\",    \n",
    "}\n",
    "\n",
    "switch_month = {\"1.0\":\"01\",\n",
    "                \"2.0\":\"02\",\n",
    "                \"3.0\":\"03\",\n",
    "                \"4.0\":\"04\",\n",
    "}"
   ]
  },
  {
   "cell_type": "code",
   "execution_count": 39,
   "metadata": {},
   "outputs": [],
   "source": [
    "jan_df = pd.read_csv(jan_weather_path)\n",
    "jan_df = jan_df[jan_df[\"Mid averaging-period time\"] != 2400.0]\n",
    "jan_df = jan_df.dropna()\n",
    "\n",
    "jan_dates = []\n",
    "\n",
    "for i in range(len(jan_df)):\n",
    "    day = jan_df[\"Day of the month\"].iloc[i]\n",
    "    if float(day) < 10:\n",
    "        day = switch_day.get(day)\n",
    "    hour = jan_df[\"Mid averaging-period time\"].iloc[i]\n",
    "    hour = switch_hour.get(str(hour))\n",
    "    month = jan_df[\"Month\"].iloc[i]\n",
    "    month = switch_month.get(str(month))\n",
    "    \n",
    "    date = \"2020_\"+month+\"_\"+day+\"_\"+hour\n",
    "    jan_dates.append(date)   \n",
    "    \n",
    "jan_df[\"date\"] = jan_dates    "
   ]
  },
  {
   "cell_type": "code",
   "execution_count": 40,
   "metadata": {},
   "outputs": [],
   "source": [
    "feb_df = pd.read_csv(feb_weather_path)\n",
    "feb_df = feb_df[feb_df[\"Mid averaging-period time\"] != 2400.0]\n",
    "feb_df = feb_df.dropna()\n",
    "\n",
    "feb_dates = []\n",
    "\n",
    "for i in range(len(feb_df)):\n",
    "    day = feb_df[\"Day of the month\"].iloc[i]\n",
    "    if float(day) < 10:\n",
    "        day = switch_day.get(day)\n",
    "    hour = feb_df[\"Mid averaging-period time\"].iloc[i]\n",
    "    hour = switch_hour.get(str(hour))\n",
    "    month = feb_df[\"Month\"].iloc[i]\n",
    "    month = switch_month.get(str(month))\n",
    "    \n",
    "    date = \"2020_\"+month+\"_\"+day+\"_\"+hour\n",
    "    feb_dates.append(date)   \n",
    "    \n",
    "feb_df[\"date\"] = feb_dates"
   ]
  },
  {
   "cell_type": "code",
   "execution_count": 41,
   "metadata": {},
   "outputs": [],
   "source": [
    "mar_df = pd.read_csv(mar_weather_path)\n",
    "mar_df = mar_df[mar_df[\"Mid averaging-period time\"] != 2400.0]\n",
    "mar_df = mar_df.dropna()\n",
    "\n",
    "mar_dates = []\n",
    "\n",
    "for i in range(len(mar_df)):\n",
    "    day = mar_df[\"Day of the month\"].iloc[i]\n",
    "    if float(day) < 10:\n",
    "        day = switch_day.get(day)\n",
    "    hour = mar_df[\"Mid averaging-period time\"].iloc[i]\n",
    "    hour = switch_hour.get(str(hour))\n",
    "    month = mar_df[\"Month\"].iloc[i]\n",
    "    month = switch_month.get(str(month))\n",
    "    \n",
    "    date = \"2020_\"+month+\"_\"+day+\"_\"+hour\n",
    "    mar_dates.append(date)   \n",
    "    \n",
    "mar_df[\"date\"] = mar_dates"
   ]
  },
  {
   "cell_type": "code",
   "execution_count": 42,
   "metadata": {},
   "outputs": [],
   "source": [
    "apr_df = pd.read_csv(apr_weather_path)\n",
    "apr_df = apr_df[apr_df[\"Mid averaging-period time\"] != 2400.0]\n",
    "apr_df = apr_df.dropna()\n",
    "\n",
    "apr_dates = []\n",
    "\n",
    "for i in range(len(apr_df)):\n",
    "    day = apr_df[\"Day of the month\"].iloc[i]\n",
    "    if float(day) < 10:\n",
    "        day = switch_day.get(day)\n",
    "    hour = apr_df[\"Mid averaging-period time\"].iloc[i]\n",
    "    hour = switch_hour.get(str(hour))\n",
    "    month = apr_df[\"Month\"].iloc[i]\n",
    "    month = switch_month.get(str(month))\n",
    "    \n",
    "    date = \"2020_\"+month+\"_\"+day+\"_\"+hour\n",
    "    apr_dates.append(date)   \n",
    "    \n",
    "apr_df[\"date\"] = apr_dates"
   ]
  },
  {
   "cell_type": "code",
   "execution_count": 43,
   "metadata": {},
   "outputs": [
    {
     "data": {
      "text/html": [
       "<div>\n",
       "<style scoped>\n",
       "    .dataframe tbody tr th:only-of-type {\n",
       "        vertical-align: middle;\n",
       "    }\n",
       "\n",
       "    .dataframe tbody tr th {\n",
       "        vertical-align: top;\n",
       "    }\n",
       "\n",
       "    .dataframe thead th {\n",
       "        text-align: right;\n",
       "    }\n",
       "</style>\n",
       "<table border=\"1\" class=\"dataframe\">\n",
       "  <thead>\n",
       "    <tr style=\"text-align: right;\">\n",
       "      <th></th>\n",
       "      <th>index</th>\n",
       "      <th>Day of the month</th>\n",
       "      <th>Month</th>\n",
       "      <th>Year</th>\n",
       "      <th>Mid averaging-period time</th>\n",
       "      <th>Pasquill stability class\\n</th>\n",
       "      <th>Average 60 m wind direction (scalar) (units: deg)</th>\n",
       "      <th>Average 60 m wind speed (scalar)\\n (units: m/s)</th>\n",
       "      <th>Standard deviation of 60 m wind direction\\n(units: deg)</th>\n",
       "      <th>Average 60 m temperature \\n(units:deg C)</th>\n",
       "      <th>...</th>\n",
       "      <th>Average water vapor pressure (units: kPa)</th>\n",
       "      <th>Average 10 cm soil temperature (units: deg C)</th>\n",
       "      <th>Average 100 cm soil temperature (units: deg C)</th>\n",
       "      <th>Average 10 ft soil temperature (units: deg C)</th>\n",
       "      <th>date</th>\n",
       "      <th>Average 60 m wind speed (scalar)\\n (units: m/s)</th>\n",
       "      <th>Average 10 m temperature (units: deg C)</th>\n",
       "      <th>Average temperature difference/100m (units: deg C/100m)</th>\n",
       "      <th>Average net radiation (units: Watts/m**2)</th>\n",
       "      <th>Average 100 cm soil temperature (units: deg C)</th>\n",
       "    </tr>\n",
       "  </thead>\n",
       "  <tbody>\n",
       "    <tr>\n",
       "      <th>2899</th>\n",
       "      <td>744</td>\n",
       "      <td>30</td>\n",
       "      <td>4.0</td>\n",
       "      <td>20.0</td>\n",
       "      <td>1930.0</td>\n",
       "      <td>E</td>\n",
       "      <td>50.1</td>\n",
       "      <td>NaN</td>\n",
       "      <td>9.5</td>\n",
       "      <td>9.4</td>\n",
       "      <td>...</td>\n",
       "      <td>0.80</td>\n",
       "      <td>9.6</td>\n",
       "      <td>NaN</td>\n",
       "      <td>7.4</td>\n",
       "      <td>2020_04_30_19</td>\n",
       "      <td>3.2</td>\n",
       "      <td>9.1</td>\n",
       "      <td>0.7</td>\n",
       "      <td>-59.50</td>\n",
       "      <td>8.2</td>\n",
       "    </tr>\n",
       "    <tr>\n",
       "      <th>2900</th>\n",
       "      <td>745</td>\n",
       "      <td>30</td>\n",
       "      <td>4.0</td>\n",
       "      <td>20.0</td>\n",
       "      <td>2030.0</td>\n",
       "      <td>E</td>\n",
       "      <td>40.2</td>\n",
       "      <td>NaN</td>\n",
       "      <td>13.1</td>\n",
       "      <td>8.4</td>\n",
       "      <td>...</td>\n",
       "      <td>0.75</td>\n",
       "      <td>9.6</td>\n",
       "      <td>NaN</td>\n",
       "      <td>7.4</td>\n",
       "      <td>2020_04_30_20</td>\n",
       "      <td>3.6</td>\n",
       "      <td>8.1</td>\n",
       "      <td>0.6</td>\n",
       "      <td>-59.60</td>\n",
       "      <td>8.2</td>\n",
       "    </tr>\n",
       "    <tr>\n",
       "      <th>2901</th>\n",
       "      <td>746</td>\n",
       "      <td>30</td>\n",
       "      <td>4.0</td>\n",
       "      <td>20.0</td>\n",
       "      <td>2130.0</td>\n",
       "      <td>E</td>\n",
       "      <td>32.3</td>\n",
       "      <td>NaN</td>\n",
       "      <td>7.5</td>\n",
       "      <td>7.7</td>\n",
       "      <td>...</td>\n",
       "      <td>0.73</td>\n",
       "      <td>9.5</td>\n",
       "      <td>NaN</td>\n",
       "      <td>7.4</td>\n",
       "      <td>2020_04_30_21</td>\n",
       "      <td>4.1</td>\n",
       "      <td>7.2</td>\n",
       "      <td>1.0</td>\n",
       "      <td>-59.20</td>\n",
       "      <td>8.2</td>\n",
       "    </tr>\n",
       "    <tr>\n",
       "      <th>2902</th>\n",
       "      <td>747</td>\n",
       "      <td>30</td>\n",
       "      <td>4.0</td>\n",
       "      <td>20.0</td>\n",
       "      <td>2230.0</td>\n",
       "      <td>F</td>\n",
       "      <td>28.6</td>\n",
       "      <td>NaN</td>\n",
       "      <td>5.4</td>\n",
       "      <td>7.7</td>\n",
       "      <td>...</td>\n",
       "      <td>0.71</td>\n",
       "      <td>9.4</td>\n",
       "      <td>NaN</td>\n",
       "      <td>7.4</td>\n",
       "      <td>2020_04_30_22</td>\n",
       "      <td>4.0</td>\n",
       "      <td>6.8</td>\n",
       "      <td>1.7</td>\n",
       "      <td>-53.90</td>\n",
       "      <td>8.2</td>\n",
       "    </tr>\n",
       "    <tr>\n",
       "      <th>2903</th>\n",
       "      <td>748</td>\n",
       "      <td>30</td>\n",
       "      <td>4.0</td>\n",
       "      <td>20.0</td>\n",
       "      <td>2330.0</td>\n",
       "      <td>F</td>\n",
       "      <td>34.0</td>\n",
       "      <td>NaN</td>\n",
       "      <td>8.7</td>\n",
       "      <td>7.9</td>\n",
       "      <td>...</td>\n",
       "      <td>0.69</td>\n",
       "      <td>9.3</td>\n",
       "      <td>NaN</td>\n",
       "      <td>7.4</td>\n",
       "      <td>2020_04_30_23</td>\n",
       "      <td>3.0</td>\n",
       "      <td>6.8</td>\n",
       "      <td>2.2</td>\n",
       "      <td>-51.20</td>\n",
       "      <td>8.2</td>\n",
       "    </tr>\n",
       "  </tbody>\n",
       "</table>\n",
       "<p>5 rows × 31 columns</p>\n",
       "</div>"
      ],
      "text/plain": [
       "      index Day of the month  Month  Year  Mid averaging-period time  \\\n",
       "2899    744               30    4.0  20.0                     1930.0   \n",
       "2900    745               30    4.0  20.0                     2030.0   \n",
       "2901    746               30    4.0  20.0                     2130.0   \n",
       "2902    747               30    4.0  20.0                     2230.0   \n",
       "2903    748               30    4.0  20.0                     2330.0   \n",
       "\n",
       "     Pasquill stability class\\n  \\\n",
       "2899                       E      \n",
       "2900                       E      \n",
       "2901                       E      \n",
       "2902                       F      \n",
       "2903                       F      \n",
       "\n",
       "     Average 60 m wind direction (scalar) (units: deg)  \\\n",
       "2899                                              50.1   \n",
       "2900                                              40.2   \n",
       "2901                                              32.3   \n",
       "2902                                              28.6   \n",
       "2903                                              34.0   \n",
       "\n",
       "     Average 60 m wind speed (scalar)\\n (units: m/s)   \\\n",
       "2899                                              NaN   \n",
       "2900                                              NaN   \n",
       "2901                                              NaN   \n",
       "2902                                              NaN   \n",
       "2903                                              NaN   \n",
       "\n",
       "     Standard deviation of 60 m wind direction\\n(units: deg)  \\\n",
       "2899                                                9.5        \n",
       "2900                                               13.1        \n",
       "2901                                                7.5        \n",
       "2902                                                5.4        \n",
       "2903                                                8.7        \n",
       "\n",
       "     Average 60 m temperature \\n(units:deg C)  ...  \\\n",
       "2899                                      9.4  ...   \n",
       "2900                                      8.4  ...   \n",
       "2901                                      7.7  ...   \n",
       "2902                                      7.7  ...   \n",
       "2903                                      7.9  ...   \n",
       "\n",
       "     Average water vapor pressure (units: kPa)  \\\n",
       "2899                                      0.80   \n",
       "2900                                      0.75   \n",
       "2901                                      0.73   \n",
       "2902                                      0.71   \n",
       "2903                                      0.69   \n",
       "\n",
       "     Average 10 cm soil temperature (units: deg C)  \\\n",
       "2899                                           9.6   \n",
       "2900                                           9.6   \n",
       "2901                                           9.5   \n",
       "2902                                           9.4   \n",
       "2903                                           9.3   \n",
       "\n",
       "     Average 100 cm soil temperature (units: deg C)   \\\n",
       "2899                                             NaN   \n",
       "2900                                             NaN   \n",
       "2901                                             NaN   \n",
       "2902                                             NaN   \n",
       "2903                                             NaN   \n",
       "\n",
       "     Average 10 ft soil temperature (units: deg C)           date  \\\n",
       "2899                                           7.4  2020_04_30_19   \n",
       "2900                                           7.4  2020_04_30_20   \n",
       "2901                                           7.4  2020_04_30_21   \n",
       "2902                                           7.4  2020_04_30_22   \n",
       "2903                                           7.4  2020_04_30_23   \n",
       "\n",
       "     Average 60 m wind speed (scalar)\\n (units: m/s)  \\\n",
       "2899                                             3.2   \n",
       "2900                                             3.6   \n",
       "2901                                             4.1   \n",
       "2902                                             4.0   \n",
       "2903                                             3.0   \n",
       "\n",
       "     Average 10 m temperature (units: deg C)  \\\n",
       "2899                                     9.1   \n",
       "2900                                     8.1   \n",
       "2901                                     7.2   \n",
       "2902                                     6.8   \n",
       "2903                                     6.8   \n",
       "\n",
       "      Average temperature difference/100m (units: deg C/100m)  \\\n",
       "2899                                                0.7         \n",
       "2900                                                0.6         \n",
       "2901                                                1.0         \n",
       "2902                                                1.7         \n",
       "2903                                                2.2         \n",
       "\n",
       "     Average net radiation (units: Watts/m**2)  \\\n",
       "2899                                    -59.50   \n",
       "2900                                    -59.60   \n",
       "2901                                    -59.20   \n",
       "2902                                    -53.90   \n",
       "2903                                    -51.20   \n",
       "\n",
       "     Average 100 cm soil temperature (units: deg C)  \n",
       "2899                                            8.2  \n",
       "2900                                            8.2  \n",
       "2901                                            8.2  \n",
       "2902                                            8.2  \n",
       "2903                                            8.2  \n",
       "\n",
       "[5 rows x 31 columns]"
      ]
     },
     "execution_count": 43,
     "metadata": {},
     "output_type": "execute_result"
    }
   ],
   "source": [
    "stack_weather = pd.concat([jan_df,feb_df,mar_df,apr_df])\n",
    "stack_weather = stack_weather.reset_index()\n",
    "#stack_weather.index = stack_weather[\"date\"]\n",
    "stack_weather.tail()"
   ]
  },
  {
   "cell_type": "code",
   "execution_count": 44,
   "metadata": {},
   "outputs": [],
   "source": [
    "index_hours = stack_weather[stack_weather['date'].isin(day_hour_data)].index.values\n",
    "#index_hours = index_hours[:-1]\n",
    "stack_weather_p = stack_weather.iloc[index_hours,:] "
   ]
  },
  {
   "cell_type": "code",
   "execution_count": 45,
   "metadata": {},
   "outputs": [
    {
     "data": {
      "text/html": [
       "<div>\n",
       "<style scoped>\n",
       "    .dataframe tbody tr th:only-of-type {\n",
       "        vertical-align: middle;\n",
       "    }\n",
       "\n",
       "    .dataframe tbody tr th {\n",
       "        vertical-align: top;\n",
       "    }\n",
       "\n",
       "    .dataframe thead th {\n",
       "        text-align: right;\n",
       "    }\n",
       "</style>\n",
       "<table border=\"1\" class=\"dataframe\">\n",
       "  <thead>\n",
       "    <tr style=\"text-align: right;\">\n",
       "      <th></th>\n",
       "      <th>Day of the month</th>\n",
       "      <th>Month</th>\n",
       "      <th>Year</th>\n",
       "      <th>Mid averaging-period time</th>\n",
       "      <th>Pasquill stability class\\n</th>\n",
       "      <th>Average 60 m wind direction (scalar) (units: deg)</th>\n",
       "      <th>Average 60 m wind speed (scalar)\\n (units: m/s)</th>\n",
       "      <th>Standard deviation of 60 m wind direction\\n(units: deg)</th>\n",
       "      <th>Average 60 m temperature \\n(units:deg C)</th>\n",
       "      <th>Average 10 m wind direction (scalar) (units: deg)</th>\n",
       "      <th>...</th>\n",
       "      <th>Average water vapor pressure (units: kPa)</th>\n",
       "      <th>Average 10 cm soil temperature (units: deg C)</th>\n",
       "      <th>Average 100 cm soil temperature (units: deg C)</th>\n",
       "      <th>Average 10 ft soil temperature (units: deg C)</th>\n",
       "      <th>date</th>\n",
       "      <th>Average 60 m wind speed (scalar)\\n (units: m/s)</th>\n",
       "      <th>Average 10 m temperature (units: deg C)</th>\n",
       "      <th>Average temperature difference/100m (units: deg C/100m)</th>\n",
       "      <th>Average net radiation (units: Watts/m**2)</th>\n",
       "      <th>Average 100 cm soil temperature (units: deg C)</th>\n",
       "    </tr>\n",
       "  </thead>\n",
       "  <tbody>\n",
       "  </tbody>\n",
       "</table>\n",
       "<p>0 rows × 30 columns</p>\n",
       "</div>"
      ],
      "text/plain": [
       "Empty DataFrame\n",
       "Columns: [Day of the month, Month, Year, Mid averaging-period time, Pasquill stability class\n",
       ", Average 60 m wind direction (scalar) (units: deg), Average 60 m wind speed (scalar)\n",
       " (units: m/s) , Standard deviation of 60 m wind direction\n",
       "(units: deg), Average 60 m temperature \n",
       "(units:deg C), Average 10 m wind direction (scalar) (units: deg), Average 10 m wind speed (scalar) (units: m/s), Standard deviation of 10 m wind direction (units: deg), Average 10 m temperature (units: deg C) , Average dew point temperature (units: deg C)\n",
       ", Average relative humidity (units: %), Average temperature difference/100m (units: deg C/100m)\n",
       ", Total precipitation (units: mm), Average solar radiation (units: Watts/m**2), Average net radiation (units: Watts/m**2) , Average barometric pressure (units: kPa), Average water vapor pressure (units: kPa), Average 10 cm soil temperature (units: deg C), Average 100 cm soil temperature (units: deg C) , Average 10 ft soil temperature (units: deg C), date, Average 60 m wind speed (scalar)\n",
       " (units: m/s), Average 10 m temperature (units: deg C), Average temperature difference/100m (units: deg C/100m), Average net radiation (units: Watts/m**2), Average 100 cm soil temperature (units: deg C)]\n",
       "Index: []\n",
       "\n",
       "[0 rows x 30 columns]"
      ]
     },
     "execution_count": 45,
     "metadata": {},
     "output_type": "execute_result"
    }
   ],
   "source": [
    "index_hours_p1 = index_hours + 1\n",
    "stack_weather_p1 = stack_weather.iloc[index_hours_p1,:] \n",
    "stack_weather_p1 = stack_weather_p1.drop([\"index\"],axis=1)\n",
    "stack_weather_p1.head()"
   ]
  },
  {
   "cell_type": "code",
   "execution_count": 46,
   "metadata": {},
   "outputs": [
    {
     "data": {
      "text/html": [
       "<div>\n",
       "<style scoped>\n",
       "    .dataframe tbody tr th:only-of-type {\n",
       "        vertical-align: middle;\n",
       "    }\n",
       "\n",
       "    .dataframe tbody tr th {\n",
       "        vertical-align: top;\n",
       "    }\n",
       "\n",
       "    .dataframe thead th {\n",
       "        text-align: right;\n",
       "    }\n",
       "</style>\n",
       "<table border=\"1\" class=\"dataframe\">\n",
       "  <thead>\n",
       "    <tr style=\"text-align: right;\">\n",
       "      <th></th>\n",
       "      <th>p_Day of the month</th>\n",
       "      <th>p_Month</th>\n",
       "      <th>p_Year</th>\n",
       "      <th>p_Mid averaging-period time</th>\n",
       "      <th>p_Pasquill stability class\\n</th>\n",
       "      <th>p_Average 60 m wind direction (scalar) (units: deg)</th>\n",
       "      <th>p_Average 60 m wind speed (scalar)\\n (units: m/s)</th>\n",
       "      <th>p_Standard deviation of 60 m wind direction\\n(units: deg)</th>\n",
       "      <th>p_Average 60 m temperature \\n(units:deg C)</th>\n",
       "      <th>p_Average 10 m wind direction (scalar) (units: deg)</th>\n",
       "      <th>...</th>\n",
       "      <th>p_Average water vapor pressure (units: kPa)</th>\n",
       "      <th>p_Average 10 cm soil temperature (units: deg C)</th>\n",
       "      <th>p_Average 100 cm soil temperature (units: deg C)</th>\n",
       "      <th>p_Average 10 ft soil temperature (units: deg C)</th>\n",
       "      <th>p_date</th>\n",
       "      <th>p_Average 60 m wind speed (scalar)\\n (units: m/s)</th>\n",
       "      <th>p_Average 10 m temperature (units: deg C)</th>\n",
       "      <th>p_Average temperature difference/100m (units: deg C/100m)</th>\n",
       "      <th>p_Average net radiation (units: Watts/m**2)</th>\n",
       "      <th>p_Average 100 cm soil temperature (units: deg C)</th>\n",
       "    </tr>\n",
       "  </thead>\n",
       "  <tbody>\n",
       "  </tbody>\n",
       "</table>\n",
       "<p>0 rows × 30 columns</p>\n",
       "</div>"
      ],
      "text/plain": [
       "Empty DataFrame\n",
       "Columns: [p_Day of the month, p_Month, p_Year, p_Mid averaging-period time, p_Pasquill stability class\n",
       ", p_Average 60 m wind direction (scalar) (units: deg), p_Average 60 m wind speed (scalar)\n",
       " (units: m/s) , p_Standard deviation of 60 m wind direction\n",
       "(units: deg), p_Average 60 m temperature \n",
       "(units:deg C), p_Average 10 m wind direction (scalar) (units: deg), p_Average 10 m wind speed (scalar) (units: m/s), p_Standard deviation of 10 m wind direction (units: deg), p_Average 10 m temperature (units: deg C) , p_Average dew point temperature (units: deg C)\n",
       ", p_Average relative humidity (units: %), p_Average temperature difference/100m (units: deg C/100m)\n",
       ", p_Total precipitation (units: mm), p_Average solar radiation (units: Watts/m**2), p_Average net radiation (units: Watts/m**2) , p_Average barometric pressure (units: kPa), p_Average water vapor pressure (units: kPa), p_Average 10 cm soil temperature (units: deg C), p_Average 100 cm soil temperature (units: deg C) , p_Average 10 ft soil temperature (units: deg C), p_date, p_Average 60 m wind speed (scalar)\n",
       " (units: m/s), p_Average 10 m temperature (units: deg C), p_Average temperature difference/100m (units: deg C/100m), p_Average net radiation (units: Watts/m**2), p_Average 100 cm soil temperature (units: deg C)]\n",
       "Index: []\n",
       "\n",
       "[0 rows x 30 columns]"
      ]
     },
     "execution_count": 46,
     "metadata": {},
     "output_type": "execute_result"
    }
   ],
   "source": [
    "stack_weather_p1_col = stack_weather_p1.columns\n",
    "stack_weather_p1_col = \"p_\"+stack_weather_p1_col\n",
    "stack_weather_p1.columns = stack_weather_p1_col\n",
    "stack_weather_p1.head()"
   ]
  },
  {
   "cell_type": "code",
   "execution_count": 47,
   "metadata": {},
   "outputs": [
    {
     "data": {
      "text/html": [
       "<div>\n",
       "<style scoped>\n",
       "    .dataframe tbody tr th:only-of-type {\n",
       "        vertical-align: middle;\n",
       "    }\n",
       "\n",
       "    .dataframe tbody tr th {\n",
       "        vertical-align: top;\n",
       "    }\n",
       "\n",
       "    .dataframe thead th {\n",
       "        text-align: right;\n",
       "    }\n",
       "</style>\n",
       "<table border=\"1\" class=\"dataframe\">\n",
       "  <thead>\n",
       "    <tr style=\"text-align: right;\">\n",
       "      <th></th>\n",
       "      <th>level_0</th>\n",
       "      <th>index</th>\n",
       "      <th>Day of the month</th>\n",
       "      <th>Month</th>\n",
       "      <th>Year</th>\n",
       "      <th>Mid averaging-period time</th>\n",
       "      <th>Pasquill stability class\\n</th>\n",
       "      <th>Average 60 m wind direction (scalar) (units: deg)</th>\n",
       "      <th>Average 60 m wind speed (scalar)\\n (units: m/s)</th>\n",
       "      <th>Standard deviation of 60 m wind direction\\n(units: deg)</th>\n",
       "      <th>...</th>\n",
       "      <th>p_Average water vapor pressure (units: kPa)</th>\n",
       "      <th>p_Average 10 cm soil temperature (units: deg C)</th>\n",
       "      <th>p_Average 100 cm soil temperature (units: deg C)</th>\n",
       "      <th>p_Average 10 ft soil temperature (units: deg C)</th>\n",
       "      <th>p_date</th>\n",
       "      <th>p_Average 60 m wind speed (scalar)\\n (units: m/s)</th>\n",
       "      <th>p_Average 10 m temperature (units: deg C)</th>\n",
       "      <th>p_Average temperature difference/100m (units: deg C/100m)</th>\n",
       "      <th>p_Average net radiation (units: Watts/m**2)</th>\n",
       "      <th>p_Average 100 cm soil temperature (units: deg C)</th>\n",
       "    </tr>\n",
       "  </thead>\n",
       "  <tbody>\n",
       "  </tbody>\n",
       "</table>\n",
       "<p>0 rows × 63 columns</p>\n",
       "</div>"
      ],
      "text/plain": [
       "Empty DataFrame\n",
       "Columns: [level_0, index, Day of the month, Month, Year, Mid averaging-period time, Pasquill stability class\n",
       ", Average 60 m wind direction (scalar) (units: deg), Average 60 m wind speed (scalar)\n",
       " (units: m/s) , Standard deviation of 60 m wind direction\n",
       "(units: deg), Average 60 m temperature \n",
       "(units:deg C), Average 10 m wind direction (scalar) (units: deg), Average 10 m wind speed (scalar) (units: m/s), Standard deviation of 10 m wind direction (units: deg), Average 10 m temperature (units: deg C) , Average dew point temperature (units: deg C)\n",
       ", Average relative humidity (units: %), Average temperature difference/100m (units: deg C/100m)\n",
       ", Total precipitation (units: mm), Average solar radiation (units: Watts/m**2), Average net radiation (units: Watts/m**2) , Average barometric pressure (units: kPa), Average water vapor pressure (units: kPa), Average 10 cm soil temperature (units: deg C), Average 100 cm soil temperature (units: deg C) , Average 10 ft soil temperature (units: deg C), date, Average 60 m wind speed (scalar)\n",
       " (units: m/s), Average 10 m temperature (units: deg C), Average temperature difference/100m (units: deg C/100m), Average net radiation (units: Watts/m**2), Average 100 cm soil temperature (units: deg C), index, p_Day of the month, p_Month, p_Year, p_Mid averaging-period time, p_Pasquill stability class\n",
       ", p_Average 60 m wind direction (scalar) (units: deg), p_Average 60 m wind speed (scalar)\n",
       " (units: m/s) , p_Standard deviation of 60 m wind direction\n",
       "(units: deg), p_Average 60 m temperature \n",
       "(units:deg C), p_Average 10 m wind direction (scalar) (units: deg), p_Average 10 m wind speed (scalar) (units: m/s), p_Standard deviation of 10 m wind direction (units: deg), p_Average 10 m temperature (units: deg C) , p_Average dew point temperature (units: deg C)\n",
       ", p_Average relative humidity (units: %), p_Average temperature difference/100m (units: deg C/100m)\n",
       ", p_Total precipitation (units: mm), p_Average solar radiation (units: Watts/m**2), p_Average net radiation (units: Watts/m**2) , p_Average barometric pressure (units: kPa), p_Average water vapor pressure (units: kPa), p_Average 10 cm soil temperature (units: deg C), p_Average 100 cm soil temperature (units: deg C) , p_Average 10 ft soil temperature (units: deg C), p_date, p_Average 60 m wind speed (scalar)\n",
       " (units: m/s), p_Average 10 m temperature (units: deg C), p_Average temperature difference/100m (units: deg C/100m), p_Average net radiation (units: Watts/m**2), p_Average 100 cm soil temperature (units: deg C)]\n",
       "Index: []\n",
       "\n",
       "[0 rows x 63 columns]"
      ]
     },
     "execution_count": 47,
     "metadata": {},
     "output_type": "execute_result"
    }
   ],
   "source": [
    "stack_weather_p = stack_weather_p.reset_index()\n",
    "stack_weather_p1 = stack_weather_p1.reset_index()\n",
    "total_weather = pd.concat([stack_weather_p, stack_weather_p1], axis=1)\n",
    "total_weather.head()"
   ]
  },
  {
   "cell_type": "code",
   "execution_count": 48,
   "metadata": {},
   "outputs": [],
   "source": [
    "total_weather = total_weather.drop([\"level_0\",\"index\"],axis=1)"
   ]
  },
  {
   "cell_type": "code",
   "execution_count": 49,
   "metadata": {},
   "outputs": [],
   "source": [
    "total_weather.to_csv(data_path+\"/weather_argonne_2020.csv\")"
   ]
  },
  {
   "cell_type": "markdown",
   "metadata": {},
   "source": [
    "## Move old files and dir"
   ]
  },
  {
   "cell_type": "code",
   "execution_count": 50,
   "metadata": {},
   "outputs": [],
   "source": [
    "os.mkdir(data_path+\"/old_files\")"
   ]
  },
  {
   "cell_type": "code",
   "execution_count": 52,
   "metadata": {},
   "outputs": [
    {
     "name": "stdout",
     "output_type": "stream",
     "text": [
      "/Volumes/Samsung_T5/lcrc_test\n"
     ]
    }
   ],
   "source": [
    "os.chdir(data_path)\n",
    "print(os.getcwd())"
   ]
  },
  {
   "cell_type": "code",
   "execution_count": 53,
   "metadata": {},
   "outputs": [
    {
     "data": {
      "text/plain": [
       "'old_files/weather_argonne_04_2020.csv'"
      ]
     },
     "execution_count": 53,
     "metadata": {},
     "output_type": "execute_result"
    }
   ],
   "source": [
    "shutil.move(\"flir\",\"old_files\")\n",
    "shutil.move(\"image\",\"old_files\")\n",
    "shutil.move(\"bottom_c\",\"old_files\")\n",
    "shutil.move(\"top_c\",\"old_files\")\n",
    "shutil.move(\"flir_c\",\"old_files\")\n",
    "shutil.move(\"weather_argonne_01_2020.csv\",\"old_files\")\n",
    "shutil.move(\"weather_argonne_02_2020.csv\",\"old_files\")\n",
    "shutil.move(\"weather_argonne_03_2020.csv\",\"old_files\")\n",
    "shutil.move(\"weather_argonne_04_2020.csv\",\"old_files\")"
   ]
  },
  {
   "cell_type": "code",
   "execution_count": null,
   "metadata": {},
   "outputs": [],
   "source": []
  },
  {
   "cell_type": "code",
   "execution_count": null,
   "metadata": {},
   "outputs": [],
   "source": []
  },
  {
   "cell_type": "code",
   "execution_count": null,
   "metadata": {},
   "outputs": [],
   "source": []
  }
 ],
 "metadata": {
  "kernelspec": {
   "display_name": "Python 3",
   "language": "python",
   "name": "python3"
  },
  "language_info": {
   "codemirror_mode": {
    "name": "ipython",
    "version": 3
   },
   "file_extension": ".py",
   "mimetype": "text/x-python",
   "name": "python",
   "nbconvert_exporter": "python",
   "pygments_lexer": "ipython3",
   "version": "3.7.3"
  }
 },
 "nbformat": 4,
 "nbformat_minor": 2
}
